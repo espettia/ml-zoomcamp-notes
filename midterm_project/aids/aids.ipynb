{
 "cells": [
  {
   "cell_type": "code",
   "execution_count": 1,
   "id": "5d242039-2a10-4d5b-8951-fd18b689e685",
   "metadata": {},
   "outputs": [
    {
     "name": "stdout",
     "output_type": "stream",
     "text": [
      "{'uci_id': 890, 'name': 'AIDS Clinical Trials Group Study 175', 'repository_url': 'https://archive.ics.uci.edu/dataset/890/aids+clinical+trials+group+study+175', 'data_url': 'https://archive.ics.uci.edu/static/public/890/data.csv', 'abstract': 'The AIDS Clinical Trials Group Study 175 Dataset contains healthcare statistics and categorical information about patients who have been diagnosed with AIDS. This dataset was initially published in 1996. The prediction task is to predict whether or not each patient died within a certain window of time or not. ', 'area': 'Life Science', 'tasks': ['Classification', 'Regression'], 'characteristics': ['Tabular', 'Multivariate'], 'num_instances': 2139, 'num_features': 23, 'feature_types': ['Categorical', 'Integer'], 'demographics': ['Age', 'Sexual Orientation', 'Race', 'Gender'], 'target_col': ['cid'], 'index_col': ['pidnum'], 'has_missing_values': 'no', 'missing_values_symbol': None, 'year_of_dataset_creation': 1996, 'last_updated': 'Wed Sep 27 2023', 'dataset_doi': '10.24432/C5ZG8F', 'creators': ['S. Hammer', 'D. Katzenstein', 'M. Hughes', 'H. Gundacker', 'R. Schooley', 'R. Haubrich', 'W. K.', 'M. Lederman', 'J. Phair', 'M. Niu', 'M. Hirsch', 'T. Merigan'], 'intro_paper': {'title': 'A trial comparing nucleoside monotherapy with combination therapy in HIV-infected adults with CD4 cell counts from 200 to 500 per cubic millimeter. AIDS Clinical Trials Group Study 175 Study Team.', 'authors': 'S. Hammer, D. Katzenstein, M. Hughes, H. Gundacker, R. Schooley, R. Haubrich, W. K. Henry, M. Lederman, J. Phair, M. Niu, M. Hirsch, T. Merigan', 'published_in': 'New England Journal of Medicine', 'year': 1996, 'url': 'https://www.semanticscholar.org/paper/c7c401dd7d49ead07e70b299e422b27314589d2f', 'doi': None}, 'additional_info': {'summary': None, 'purpose': 'To examine the performance of two different types of AIDS treatments', 'funded_by': '- AIDS Clinical Trials Group of the National Institute of Allergy and Infectious Diseases\\n- General Research Center units funded by the National Center for Research Resources', 'instances_represent': '- Health records\\n- AIDS patients\\n- US only', 'recommended_data_splits': 'Cross validation or a single train-test split could be used.', 'sensitive_data': '- Ethnicity (race)\\n- Gender', 'preprocessing_description': 'No', 'variable_info': '- Personal information (age, weight, race, gender, sexual activity)\\n- Medical history (hemophilia, history of IV drugs)\\n- Treatment history (ZDV/non-ZDV treatment history)\\n- Lab results (CD4/CD8 counts)', 'citation': None}, 'external_url': 'https://classic.clinicaltrials.gov/ct2/show/NCT00000625'}\n",
      "       name     role        type         demographic  \\\n",
      "0    pidnum       ID     Integer                None   \n",
      "1       cid   Target      Binary                None   \n",
      "2      time  Feature     Integer                None   \n",
      "3       trt  Feature     Integer                None   \n",
      "4       age  Feature     Integer                 Age   \n",
      "5      wtkg  Feature  Continuous                None   \n",
      "6      hemo  Feature      Binary                None   \n",
      "7      homo  Feature      Binary  Sexual Orientation   \n",
      "8     drugs  Feature      Binary                None   \n",
      "9    karnof  Feature     Integer                None   \n",
      "10   oprior  Feature      Binary                None   \n",
      "11      z30  Feature      Binary                None   \n",
      "12   zprior  Feature      Binary                None   \n",
      "13  preanti  Feature     Integer                None   \n",
      "14     race  Feature     Integer                Race   \n",
      "15   gender  Feature      Binary              Gender   \n",
      "16     str2  Feature      Binary                None   \n",
      "17    strat  Feature     Integer                None   \n",
      "18  symptom  Feature      Binary                None   \n",
      "19    treat  Feature      Binary                None   \n",
      "20   offtrt  Feature      Binary                None   \n",
      "21     cd40  Feature     Integer                None   \n",
      "22    cd420  Feature     Integer                None   \n",
      "23     cd80  Feature     Integer                None   \n",
      "24    cd820  Feature     Integer                None   \n",
      "\n",
      "                                          description units missing_values  \n",
      "0                                          Patient ID  None             no  \n",
      "1    censoring indicator (1 = failure, 0 = censoring)  None             no  \n",
      "2                        time to failure or censoring  None             no  \n",
      "3   treatment indicator (0 = ZDV only; 1 = ZDV + d...  None             no  \n",
      "4                               age (yrs) at baseline  None             no  \n",
      "5                             weight (kg) at baseline  None             no  \n",
      "6                            hemophilia (0=no, 1=yes)  None             no  \n",
      "7                   homosexual activity (0=no, 1=yes)  None             no  \n",
      "8                history of IV drug use (0=no, 1=yes)  None             no  \n",
      "9               Karnofsky score (on a scale of 0-100)  None             no  \n",
      "10  Non-ZDV antiretroviral therapy pre-175 (0=no, ...  None             no  \n",
      "11      ZDV in the 30 days prior to 175 (0=no, 1=yes)  None             no  \n",
      "12                     ZDV prior to 175 (0=no, 1=yes)  None             no  \n",
      "13             # days pre-175 anti-retroviral therapy  None             no  \n",
      "14                        race (0=White, 1=non-white)  None             no  \n",
      "15                                  gender (0=F, 1=M)  None             no  \n",
      "16    antiretroviral history (0=naive, 1=experienced)  None             no  \n",
      "17  antiretroviral history stratification (1='Anti...  None             no  \n",
      "18            symptomatic indicator (0=asymp, 1=symp)  None             no  \n",
      "19         treatment indicator (0=ZDV only, 1=others)  None             no  \n",
      "20  indicator of off-trt before 96+/-5 weeks (0=no...  None             no  \n",
      "21                                    CD4 at baseline  None             no  \n",
      "22                                CD4 at 20+/-5 weeks  None             no  \n",
      "23                                    CD8 at baseline  None             no  \n",
      "24                                CD8 at 20+/-5 weeks  None             no  \n"
     ]
    }
   ],
   "source": [
    "from ucimlrepo import fetch_ucirepo \n",
    "  \n",
    "# fetch dataset \n",
    "aids_clinical_trials_group_study_175 = fetch_ucirepo(id=890) \n",
    "  \n",
    "# data (as pandas dataframes) \n",
    "X = aids_clinical_trials_group_study_175.data.features \n",
    "y = aids_clinical_trials_group_study_175.data.targets \n",
    "  \n",
    "# metadata \n",
    "print(aids_clinical_trials_group_study_175.metadata) \n",
    "  \n",
    "# variable information \n",
    "print(aids_clinical_trials_group_study_175.variables) \n"
   ]
  },
  {
   "cell_type": "code",
   "execution_count": 4,
   "id": "11087668-47b8-4b73-b3c2-d583aa2b3fcc",
   "metadata": {},
   "outputs": [
    {
     "name": "stdout",
     "output_type": "stream",
     "text": [
      "             0       1       2       3       4\n",
      "time     948.0  1002.0   961.0  1166.0  1090.0\n",
      "trt        2.0     3.0     3.0     3.0     0.0\n",
      "age       48.0    61.0    45.0    47.0    43.0\n",
      "wtkg      90.0    49.0    88.0    85.0    67.0\n",
      "hemo       0.0     0.0     0.0     0.0     0.0\n",
      "homo       0.0     0.0     1.0     1.0     1.0\n",
      "drugs      0.0     0.0     1.0     0.0     0.0\n",
      "karnof   100.0    90.0    90.0   100.0   100.0\n",
      "oprior     0.0     0.0     0.0     0.0     0.0\n",
      "z30        0.0     1.0     1.0     1.0     1.0\n",
      "zprior     1.0     1.0     1.0     1.0     1.0\n",
      "preanti    0.0   895.0   707.0  1399.0  1352.0\n",
      "race       0.0     0.0     0.0     0.0     0.0\n",
      "gender     0.0     0.0     1.0     1.0     1.0\n",
      "str2       0.0     1.0     1.0     1.0     1.0\n",
      "strat      1.0     3.0     3.0     3.0     3.0\n",
      "symptom    0.0     0.0     0.0     0.0     0.0\n",
      "treat      1.0     1.0     1.0     1.0     0.0\n",
      "offtrt     0.0     0.0     1.0     0.0     0.0\n",
      "cd40     422.0   162.0   326.0   287.0   504.0\n",
      "cd420    477.0   218.0   274.0   394.0   353.0\n",
      "cd80     566.0   392.0  2063.0  1590.0   870.0\n",
      "cd820    324.0   564.0  1893.0   966.0   782.0\n"
     ]
    }
   ],
   "source": [
    "print(X.head().round().T)"
   ]
  },
  {
   "cell_type": "code",
   "execution_count": 19,
   "id": "0f6fd16a-31c2-468c-bff4-3c45ee0a1edf",
   "metadata": {},
   "outputs": [
    {
     "data": {
      "text/plain": [
       "cid\n",
       "0    1618\n",
       "1     521\n",
       "Name: count, dtype: int64"
      ]
     },
     "execution_count": 19,
     "metadata": {},
     "output_type": "execute_result"
    }
   ],
   "source": [
    "y.cid.value_counts()"
   ]
  },
  {
   "cell_type": "code",
   "execution_count": null,
   "id": "c5dbf47d-e45a-4807-b5e8-7713c846e871",
   "metadata": {},
   "outputs": [],
   "source": []
  }
 ],
 "metadata": {
  "kernelspec": {
   "display_name": "Python 3 (ipykernel)",
   "language": "python",
   "name": "python3"
  },
  "language_info": {
   "codemirror_mode": {
    "name": "ipython",
    "version": 3
   },
   "file_extension": ".py",
   "mimetype": "text/x-python",
   "name": "python",
   "nbconvert_exporter": "python",
   "pygments_lexer": "ipython3",
   "version": "3.9.18"
  }
 },
 "nbformat": 4,
 "nbformat_minor": 5
}
