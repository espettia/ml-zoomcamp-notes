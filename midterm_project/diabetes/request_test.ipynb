{
 "cells": [
  {
   "cell_type": "code",
   "execution_count": 1,
   "id": "2c91257e-1069-4662-b72e-faa1c7f76795",
   "metadata": {},
   "outputs": [
    {
     "data": {
      "application/javascript": [
       "IPython.notebook.set_autosave_interval(0)"
      ]
     },
     "metadata": {},
     "output_type": "display_data"
    },
    {
     "name": "stdout",
     "output_type": "stream",
     "text": [
      "Autosave disabled\n"
     ]
    }
   ],
   "source": [
    "%autosave 0"
   ]
  },
  {
   "cell_type": "code",
   "execution_count": 14,
   "id": "0416e8af-27e4-4f32-b27d-855c9634ba75",
   "metadata": {},
   "outputs": [],
   "source": [
    "import requests\n",
    "url = 'http://0.0.0.0:9696'+'/predict'\n",
    "patient = {\"highbp\": 1, \"highchol\": 1, \"cholcheck\": 1, \"bmi\": 40, \"smoker\": 1, \"stroke\": 0, \"heartdiseaseorattack\": 0, \"physactivity\": 0, \"fruits\": 0, \"veggies\": 1, \"hvyalcoholconsump\": 0, \"anyhealthcare\": 1, \"nodocbccost\": 0, \"menthlth\": 18, \"physhlth\": 15, \"diffwalk\": 1, \"sex\": 0, \"age\": 9, \"education\": 4, \"income\": 3}"
   ]
  },
  {
   "cell_type": "code",
   "execution_count": 15,
   "id": "9c8d0eda-3a29-43b4-83fa-2529f45c158e",
   "metadata": {},
   "outputs": [
    {
     "name": "stdout",
     "output_type": "stream",
     "text": [
      "Positive for Diabetes\n"
     ]
    }
   ],
   "source": [
    "response = requests.post(url,json=patient).json()\n",
    "if response['diabetes']==True:\n",
    "    print(\"Positive for Diabetes\")\n",
    "else:\n",
    "    print(\"Negative for Diabetes\")"
   ]
  },
  {
   "cell_type": "code",
   "execution_count": null,
   "id": "7c06de0c-5df6-418b-b1ad-b8e6e8e4b460",
   "metadata": {},
   "outputs": [],
   "source": []
  }
 ],
 "metadata": {
  "kernelspec": {
   "display_name": "Python 3 (ipykernel)",
   "language": "python",
   "name": "python3"
  },
  "language_info": {
   "codemirror_mode": {
    "name": "ipython",
    "version": 3
   },
   "file_extension": ".py",
   "mimetype": "text/x-python",
   "name": "python",
   "nbconvert_exporter": "python",
   "pygments_lexer": "ipython3",
   "version": "3.9.18"
  }
 },
 "nbformat": 4,
 "nbformat_minor": 5
}
