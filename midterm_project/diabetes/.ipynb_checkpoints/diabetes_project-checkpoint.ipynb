{
 "cells": [
  {
   "cell_type": "code",
   "execution_count": 62,
   "id": "db86cd67-486d-4244-9d7d-e3c6737d5d46",
   "metadata": {},
   "outputs": [
    {
     "name": "stdout",
     "output_type": "stream",
     "text": [
      "Loading data\n",
      "Done\n"
     ]
    }
   ],
   "source": [
    "#https://archive.ics.uci.edu/dataset/891/cdc+diabetes+health+indicators\n",
    "import numpy as np\n",
    "import pandas as pd\n",
    "import seaborn as sbs\n",
    "import matplotlib.pyplot as plt\n",
    "import pickle\n",
    "\n",
    "if 'df' not in locals():\n",
    "    try:\n",
    "        with open('df.bin','rb') as f:\n",
    "            print(\"Loading data\")\n",
    "            df,df_t=pickle.load(f)\n",
    "    except FileNotFoundError:\n",
    "        print('Downloading data')\n",
    "        from ucimlrepo import fetch_ucirepo \n",
    "          \n",
    "        # fetch dataset \n",
    "        cdc_diabetes_health_indicators = fetch_ucirepo(id=891) \n",
    "          \n",
    "        # data (as pandas dataframes) \n",
    "        df = cdc_diabetes_health_indicators.data.features \n",
    "        df_t = cdc_diabetes_health_indicators.data.targets \n",
    "          \n",
    "        # metadata \n",
    "        print(cdc_diabetes_health_indicators.metadata) \n",
    "          \n",
    "        # variable information \n",
    "        print(cdc_diabetes_health_indicators.variables) \n",
    "        \n",
    "        import pickle\n",
    "        \n",
    "        with open('df.bin','wb') as f:\n",
    "            print('Saving data')\n",
    "            pickle.dump((df,df_t),f)\n",
    "    print('Done')\n",
    "else:\n",
    "    print('Data already in memory')"
   ]
  },
  {
   "cell_type": "markdown",
   "id": "32d0c212-01fc-44c7-b1e2-00cb5ac83754",
   "metadata": {},
   "source": [
    "## Data Preparation"
   ]
  },
  {
   "cell_type": "code",
   "execution_count": 63,
   "id": "0ea64705-fe4b-4466-9b9f-f9ad7c176352",
   "metadata": {},
   "outputs": [
    {
     "data": {
      "text/html": [
       "<div>\n",
       "<style scoped>\n",
       "    .dataframe tbody tr th:only-of-type {\n",
       "        vertical-align: middle;\n",
       "    }\n",
       "\n",
       "    .dataframe tbody tr th {\n",
       "        vertical-align: top;\n",
       "    }\n",
       "\n",
       "    .dataframe thead th {\n",
       "        text-align: right;\n",
       "    }\n",
       "</style>\n",
       "<table border=\"1\" class=\"dataframe\">\n",
       "  <thead>\n",
       "    <tr style=\"text-align: right;\">\n",
       "      <th></th>\n",
       "      <th>highbp</th>\n",
       "      <th>highchol</th>\n",
       "      <th>cholcheck</th>\n",
       "      <th>bmi</th>\n",
       "      <th>smoker</th>\n",
       "      <th>stroke</th>\n",
       "      <th>heartdiseaseorattack</th>\n",
       "      <th>physactivity</th>\n",
       "      <th>fruits</th>\n",
       "      <th>veggies</th>\n",
       "      <th>...</th>\n",
       "      <th>nodocbccost</th>\n",
       "      <th>genhlth</th>\n",
       "      <th>menthlth</th>\n",
       "      <th>physhlth</th>\n",
       "      <th>diffwalk</th>\n",
       "      <th>sex</th>\n",
       "      <th>age</th>\n",
       "      <th>education</th>\n",
       "      <th>income</th>\n",
       "      <th>diabetes</th>\n",
       "    </tr>\n",
       "  </thead>\n",
       "  <tbody>\n",
       "    <tr>\n",
       "      <th>0</th>\n",
       "      <td>1</td>\n",
       "      <td>1</td>\n",
       "      <td>1</td>\n",
       "      <td>40</td>\n",
       "      <td>1</td>\n",
       "      <td>0</td>\n",
       "      <td>0</td>\n",
       "      <td>0</td>\n",
       "      <td>0</td>\n",
       "      <td>1</td>\n",
       "      <td>...</td>\n",
       "      <td>0</td>\n",
       "      <td>5</td>\n",
       "      <td>18</td>\n",
       "      <td>15</td>\n",
       "      <td>1</td>\n",
       "      <td>0</td>\n",
       "      <td>9</td>\n",
       "      <td>4</td>\n",
       "      <td>3</td>\n",
       "      <td>0</td>\n",
       "    </tr>\n",
       "    <tr>\n",
       "      <th>1</th>\n",
       "      <td>0</td>\n",
       "      <td>0</td>\n",
       "      <td>0</td>\n",
       "      <td>25</td>\n",
       "      <td>1</td>\n",
       "      <td>0</td>\n",
       "      <td>0</td>\n",
       "      <td>1</td>\n",
       "      <td>0</td>\n",
       "      <td>0</td>\n",
       "      <td>...</td>\n",
       "      <td>1</td>\n",
       "      <td>3</td>\n",
       "      <td>0</td>\n",
       "      <td>0</td>\n",
       "      <td>0</td>\n",
       "      <td>0</td>\n",
       "      <td>7</td>\n",
       "      <td>6</td>\n",
       "      <td>1</td>\n",
       "      <td>0</td>\n",
       "    </tr>\n",
       "    <tr>\n",
       "      <th>2</th>\n",
       "      <td>1</td>\n",
       "      <td>1</td>\n",
       "      <td>1</td>\n",
       "      <td>28</td>\n",
       "      <td>0</td>\n",
       "      <td>0</td>\n",
       "      <td>0</td>\n",
       "      <td>0</td>\n",
       "      <td>1</td>\n",
       "      <td>0</td>\n",
       "      <td>...</td>\n",
       "      <td>1</td>\n",
       "      <td>5</td>\n",
       "      <td>30</td>\n",
       "      <td>30</td>\n",
       "      <td>1</td>\n",
       "      <td>0</td>\n",
       "      <td>9</td>\n",
       "      <td>4</td>\n",
       "      <td>8</td>\n",
       "      <td>0</td>\n",
       "    </tr>\n",
       "    <tr>\n",
       "      <th>3</th>\n",
       "      <td>1</td>\n",
       "      <td>0</td>\n",
       "      <td>1</td>\n",
       "      <td>27</td>\n",
       "      <td>0</td>\n",
       "      <td>0</td>\n",
       "      <td>0</td>\n",
       "      <td>1</td>\n",
       "      <td>1</td>\n",
       "      <td>1</td>\n",
       "      <td>...</td>\n",
       "      <td>0</td>\n",
       "      <td>2</td>\n",
       "      <td>0</td>\n",
       "      <td>0</td>\n",
       "      <td>0</td>\n",
       "      <td>0</td>\n",
       "      <td>11</td>\n",
       "      <td>3</td>\n",
       "      <td>6</td>\n",
       "      <td>0</td>\n",
       "    </tr>\n",
       "    <tr>\n",
       "      <th>4</th>\n",
       "      <td>1</td>\n",
       "      <td>1</td>\n",
       "      <td>1</td>\n",
       "      <td>24</td>\n",
       "      <td>0</td>\n",
       "      <td>0</td>\n",
       "      <td>0</td>\n",
       "      <td>1</td>\n",
       "      <td>1</td>\n",
       "      <td>1</td>\n",
       "      <td>...</td>\n",
       "      <td>0</td>\n",
       "      <td>2</td>\n",
       "      <td>3</td>\n",
       "      <td>0</td>\n",
       "      <td>0</td>\n",
       "      <td>0</td>\n",
       "      <td>11</td>\n",
       "      <td>5</td>\n",
       "      <td>4</td>\n",
       "      <td>0</td>\n",
       "    </tr>\n",
       "    <tr>\n",
       "      <th>...</th>\n",
       "      <td>...</td>\n",
       "      <td>...</td>\n",
       "      <td>...</td>\n",
       "      <td>...</td>\n",
       "      <td>...</td>\n",
       "      <td>...</td>\n",
       "      <td>...</td>\n",
       "      <td>...</td>\n",
       "      <td>...</td>\n",
       "      <td>...</td>\n",
       "      <td>...</td>\n",
       "      <td>...</td>\n",
       "      <td>...</td>\n",
       "      <td>...</td>\n",
       "      <td>...</td>\n",
       "      <td>...</td>\n",
       "      <td>...</td>\n",
       "      <td>...</td>\n",
       "      <td>...</td>\n",
       "      <td>...</td>\n",
       "      <td>...</td>\n",
       "    </tr>\n",
       "    <tr>\n",
       "      <th>253675</th>\n",
       "      <td>1</td>\n",
       "      <td>1</td>\n",
       "      <td>1</td>\n",
       "      <td>45</td>\n",
       "      <td>0</td>\n",
       "      <td>0</td>\n",
       "      <td>0</td>\n",
       "      <td>0</td>\n",
       "      <td>1</td>\n",
       "      <td>1</td>\n",
       "      <td>...</td>\n",
       "      <td>0</td>\n",
       "      <td>3</td>\n",
       "      <td>0</td>\n",
       "      <td>5</td>\n",
       "      <td>0</td>\n",
       "      <td>1</td>\n",
       "      <td>5</td>\n",
       "      <td>6</td>\n",
       "      <td>7</td>\n",
       "      <td>0</td>\n",
       "    </tr>\n",
       "    <tr>\n",
       "      <th>253676</th>\n",
       "      <td>1</td>\n",
       "      <td>1</td>\n",
       "      <td>1</td>\n",
       "      <td>18</td>\n",
       "      <td>0</td>\n",
       "      <td>0</td>\n",
       "      <td>0</td>\n",
       "      <td>0</td>\n",
       "      <td>0</td>\n",
       "      <td>0</td>\n",
       "      <td>...</td>\n",
       "      <td>0</td>\n",
       "      <td>4</td>\n",
       "      <td>0</td>\n",
       "      <td>0</td>\n",
       "      <td>1</td>\n",
       "      <td>0</td>\n",
       "      <td>11</td>\n",
       "      <td>2</td>\n",
       "      <td>4</td>\n",
       "      <td>1</td>\n",
       "    </tr>\n",
       "    <tr>\n",
       "      <th>253677</th>\n",
       "      <td>0</td>\n",
       "      <td>0</td>\n",
       "      <td>1</td>\n",
       "      <td>28</td>\n",
       "      <td>0</td>\n",
       "      <td>0</td>\n",
       "      <td>0</td>\n",
       "      <td>1</td>\n",
       "      <td>1</td>\n",
       "      <td>0</td>\n",
       "      <td>...</td>\n",
       "      <td>0</td>\n",
       "      <td>1</td>\n",
       "      <td>0</td>\n",
       "      <td>0</td>\n",
       "      <td>0</td>\n",
       "      <td>0</td>\n",
       "      <td>2</td>\n",
       "      <td>5</td>\n",
       "      <td>2</td>\n",
       "      <td>0</td>\n",
       "    </tr>\n",
       "    <tr>\n",
       "      <th>253678</th>\n",
       "      <td>1</td>\n",
       "      <td>0</td>\n",
       "      <td>1</td>\n",
       "      <td>23</td>\n",
       "      <td>0</td>\n",
       "      <td>0</td>\n",
       "      <td>0</td>\n",
       "      <td>0</td>\n",
       "      <td>1</td>\n",
       "      <td>1</td>\n",
       "      <td>...</td>\n",
       "      <td>0</td>\n",
       "      <td>3</td>\n",
       "      <td>0</td>\n",
       "      <td>0</td>\n",
       "      <td>0</td>\n",
       "      <td>1</td>\n",
       "      <td>7</td>\n",
       "      <td>5</td>\n",
       "      <td>1</td>\n",
       "      <td>0</td>\n",
       "    </tr>\n",
       "    <tr>\n",
       "      <th>253679</th>\n",
       "      <td>1</td>\n",
       "      <td>1</td>\n",
       "      <td>1</td>\n",
       "      <td>25</td>\n",
       "      <td>0</td>\n",
       "      <td>0</td>\n",
       "      <td>1</td>\n",
       "      <td>1</td>\n",
       "      <td>1</td>\n",
       "      <td>0</td>\n",
       "      <td>...</td>\n",
       "      <td>0</td>\n",
       "      <td>2</td>\n",
       "      <td>0</td>\n",
       "      <td>0</td>\n",
       "      <td>0</td>\n",
       "      <td>0</td>\n",
       "      <td>9</td>\n",
       "      <td>6</td>\n",
       "      <td>2</td>\n",
       "      <td>1</td>\n",
       "    </tr>\n",
       "  </tbody>\n",
       "</table>\n",
       "<p>253680 rows × 22 columns</p>\n",
       "</div>"
      ],
      "text/plain": [
       "        highbp  highchol  cholcheck  bmi  smoker  stroke  \\\n",
       "0            1         1          1   40       1       0   \n",
       "1            0         0          0   25       1       0   \n",
       "2            1         1          1   28       0       0   \n",
       "3            1         0          1   27       0       0   \n",
       "4            1         1          1   24       0       0   \n",
       "...        ...       ...        ...  ...     ...     ...   \n",
       "253675       1         1          1   45       0       0   \n",
       "253676       1         1          1   18       0       0   \n",
       "253677       0         0          1   28       0       0   \n",
       "253678       1         0          1   23       0       0   \n",
       "253679       1         1          1   25       0       0   \n",
       "\n",
       "        heartdiseaseorattack  physactivity  fruits  veggies  ...  nodocbccost  \\\n",
       "0                          0             0       0        1  ...            0   \n",
       "1                          0             1       0        0  ...            1   \n",
       "2                          0             0       1        0  ...            1   \n",
       "3                          0             1       1        1  ...            0   \n",
       "4                          0             1       1        1  ...            0   \n",
       "...                      ...           ...     ...      ...  ...          ...   \n",
       "253675                     0             0       1        1  ...            0   \n",
       "253676                     0             0       0        0  ...            0   \n",
       "253677                     0             1       1        0  ...            0   \n",
       "253678                     0             0       1        1  ...            0   \n",
       "253679                     1             1       1        0  ...            0   \n",
       "\n",
       "        genhlth  menthlth  physhlth  diffwalk  sex  age  education  income  \\\n",
       "0             5        18        15         1    0    9          4       3   \n",
       "1             3         0         0         0    0    7          6       1   \n",
       "2             5        30        30         1    0    9          4       8   \n",
       "3             2         0         0         0    0   11          3       6   \n",
       "4             2         3         0         0    0   11          5       4   \n",
       "...         ...       ...       ...       ...  ...  ...        ...     ...   \n",
       "253675        3         0         5         0    1    5          6       7   \n",
       "253676        4         0         0         1    0   11          2       4   \n",
       "253677        1         0         0         0    0    2          5       2   \n",
       "253678        3         0         0         0    1    7          5       1   \n",
       "253679        2         0         0         0    0    9          6       2   \n",
       "\n",
       "        diabetes  \n",
       "0              0  \n",
       "1              0  \n",
       "2              0  \n",
       "3              0  \n",
       "4              0  \n",
       "...          ...  \n",
       "253675         0  \n",
       "253676         1  \n",
       "253677         0  \n",
       "253678         0  \n",
       "253679         1  \n",
       "\n",
       "[253680 rows x 22 columns]"
      ]
     },
     "execution_count": 63,
     "metadata": {},
     "output_type": "execute_result"
    }
   ],
   "source": [
    "#Basic cleaning\n",
    "df=df.join(df_t)\n",
    "df.columns=df.columns.str.lower()\n",
    "df.rename(columns={'diabetes_binary':'diabetes'},inplace=True)\n",
    "df"
   ]
  },
  {
   "cell_type": "markdown",
   "id": "5d9101d6-a9ef-4263-a993-b1fd8d041bfa",
   "metadata": {},
   "source": [
    "gnhlth is defined as: \\\n",
    "Would you say that in general your health is: scale 1-5 1 = excellent 2 = very good 3 = good 4 = fair 5 = poor. This feature tells us that people are aware of their actual health condition and it is a good predictor for the diagnosis of diabetes. \\\n",
    "The subjective nature of this indicator makes it hard to measure objectively and there are many factors that an individual make take into account by answering the question that the other features don't consider. It would be almost equivalent to ask if they think they have diabetes. For these reasons, for the purposes of the current model we drop the gnhtlh column."
   ]
  },
  {
   "cell_type": "code",
   "execution_count": 3,
   "id": "f0f96dd6-d20d-47ec-8f31-149bc498755d",
   "metadata": {},
   "outputs": [],
   "source": [
    "del df['genhlth']"
   ]
  },
  {
   "cell_type": "markdown",
   "id": "60322598-a858-4570-b076-e28a717afe28",
   "metadata": {},
   "source": [
    "## Model Preparation"
   ]
  },
  {
   "cell_type": "code",
   "execution_count": 4,
   "id": "96e2a137-3fd4-4104-813b-da5c42fd2891",
   "metadata": {},
   "outputs": [],
   "source": [
    "from sklearn.model_selection import train_test_split\n",
    "\n",
    "random_state=0\n",
    "df_full_train, df_test=train_test_split(df, test_size=0.2,random_state=random_state)\n",
    "df_train,df_val = train_test_split(df_full_train,test_size=0.2/0.8)\n",
    "\n",
    "df_train = df_train.reset_index(drop=True)\n",
    "df_val = df_val.reset_index(drop=True)\n",
    "df_test = df_test.reset_index(drop=True)\n",
    "\n",
    "y_full_train = df_full_train.diabetes.values\n",
    "y_train = df_train.diabetes.values\n",
    "y_val = df_val.diabetes.values\n",
    "y_test = df_test.diabetes.values\n",
    "\n",
    "del df_train['diabetes']\n",
    "del df_val['diabetes']\n",
    "del df_test['diabetes']"
   ]
  },
  {
   "cell_type": "markdown",
   "id": "4b6cc96e-b29d-445c-ab68-bb786767f5b4",
   "metadata": {},
   "source": [
    "## EDA\n",
    "\n",
    "The following information was gathered:\n",
    "- Number of samples\n",
    "- Name of the features, type, missing values"
   ]
  },
  {
   "cell_type": "code",
   "execution_count": 5,
   "id": "f212336a-e946-4437-a46e-05dba13d4b19",
   "metadata": {},
   "outputs": [
    {
     "name": "stdout",
     "output_type": "stream",
     "text": [
      "Number of examples:     5327280\n",
      "Distribution: 13.93% are diagnosed with pre-diabetes or diabetes\n",
      "                                      Name   Type  Missing values\n",
      "highbp                              highbp  int64               0\n",
      "highchol                          highchol  int64               0\n",
      "cholcheck                        cholcheck  int64               0\n",
      "bmi                                    bmi  int64               0\n",
      "smoker                              smoker  int64               0\n",
      "stroke                              stroke  int64               0\n",
      "heartdiseaseorattack  heartdiseaseorattack  int64               0\n",
      "physactivity                  physactivity  int64               0\n",
      "fruits                              fruits  int64               0\n",
      "veggies                            veggies  int64               0\n",
      "hvyalcoholconsump        hvyalcoholconsump  int64               0\n",
      "anyhealthcare                anyhealthcare  int64               0\n",
      "nodocbccost                    nodocbccost  int64               0\n",
      "menthlth                          menthlth  int64               0\n",
      "physhlth                          physhlth  int64               0\n",
      "diffwalk                          diffwalk  int64               0\n",
      "sex                                    sex  int64               0\n",
      "age                                    age  int64               0\n",
      "education                        education  int64               0\n",
      "income                              income  int64               0\n",
      "diabetes                          diabetes  int64               0\n"
     ]
    }
   ],
   "source": [
    "n_samples = df.size\n",
    "df_eda = pd.DataFrame({'Name':df.columns.values,\\\n",
    "                            'Type':df.dtypes.values,\\\n",
    "                            'Missing values':df.isnull().sum(),\\\n",
    "                            })\n",
    "\n",
    "print(f'Number of examples: {df.size:11}')\n",
    "print(f'Distribution: {df.diabetes.mean()*100:.2f}% are diagnosed with pre-diabetes or diabetes')\n",
    "print(df_eda)\n",
    "\n"
   ]
  },
  {
   "cell_type": "markdown",
   "id": "5173fa02-c593-457b-b1a7-f67d41401fc7",
   "metadata": {},
   "source": [
    "#### Feature importance - Risk Ratios\n"
   ]
  },
  {
   "cell_type": "code",
   "execution_count": 6,
   "id": "d377a39f-65d2-41ca-a30d-009ce4c03acd",
   "metadata": {},
   "outputs": [],
   "source": [
    "binary = ['highbp','highchol','cholcheck','smoker',\n",
    "               'stroke','heartdiseaseorattack','physactivity',\n",
    "               'fruits','veggies','hvyalcoholconsump','anyhealthcare',\n",
    "               'nodocbccost','diffwalk','sex']"
   ]
  },
  {
   "cell_type": "code",
   "execution_count": 7,
   "id": "fc26b4be-705c-4a5c-a21d-479eecf05801",
   "metadata": {},
   "outputs": [
    {
     "name": "stdout",
     "output_type": "stream",
     "text": [
      "Binary features sorted by risk ratio\n",
      "                 Feature         0         1       max\n",
      "0   heartdiseaseorattack  0.859828  2.347570  2.347570\n",
      "1                 stroke  0.948060  2.232434  2.232434\n",
      "2               diffwalk  0.757696  2.197808  2.197808\n",
      "3                 highbp  0.434612  1.752259  1.752259\n",
      "4               highchol  0.575075  1.576887  1.576887\n",
      "5           physactivity  1.521725  0.831646  1.521725\n",
      "6                veggies  1.288062  0.932969  1.288062\n",
      "7            nodocbccost  0.975105  1.269803  1.269803\n",
      "8                 smoker  0.867821  1.166503  1.166503\n",
      "9                 fruits  1.135693  0.921705  1.135693\n",
      "10                   sex  0.931266  1.087497  1.087497\n",
      "11     hvyalcoholconsump  1.035004  0.419417  1.035004\n",
      "12             cholcheck  0.179429  1.031916  1.031916\n",
      "13         anyhealthcare  0.833940  1.008559  1.008559\n"
     ]
    }
   ],
   "source": [
    "global_risk = df_full_train.diabetes.mean()\n",
    "records=[]\n",
    "for feat in binary:\n",
    "    zero = df_full_train[df_full_train[feat]==0].diabetes.mean()/global_risk\n",
    "    one = df_full_train[df_full_train[feat]==1].diabetes.mean()/global_risk\n",
    "    record_temp = {'Feature':feat,\\\n",
    "                   '0':zero,\\\n",
    "                   '1':one,\\\n",
    "                   'max':np.max([zero,one])}\n",
    "    records.append(record_temp)\n",
    "df_risk = pd.DataFrame(records)\n",
    "df_risk.sort_values(by='max',ascending=False,inplace=True)\n",
    "df_risk.reset_index(drop=True,inplace=True)\n",
    "print(\"Binary features sorted by risk ratio\")\n",
    "print(df_risk)"
   ]
  },
  {
   "cell_type": "markdown",
   "id": "a8ac5a80-8b6e-4af1-9846-3e59cf3bec53",
   "metadata": {},
   "source": [
    "We observe that having a heart disease or attack is a good indicator of diabetes, along with ever having a stroke and having difficulty walking.\n",
    "Males are slightly more likely to have diabetes than females.\\\n",
    "Interestingly, heavy alcohol consumption is slightly related to not having diabetes, however other effects on health are wellknown."
   ]
  },
  {
   "cell_type": "code",
   "execution_count": 8,
   "id": "6d01addf-bfeb-41d4-a6d4-d8f54d004dff",
   "metadata": {},
   "outputs": [],
   "source": [
    "non_binary = [feat for feat in df_full_train.columns.values if feat not in binary+\\\n",
    "              ['bmi','menthlth','physhlth','diabetes']]\n"
   ]
  },
  {
   "cell_type": "code",
   "execution_count": 9,
   "id": "2e1982d5-948f-4dd9-90df-57032a6dc894",
   "metadata": {},
   "outputs": [
    {
     "data": {
      "image/png": "[encoded data removed]",
      "text/plain": [
       "<Figure size 640x480 with 3 Axes>"
      ]
     },
     "metadata": {},
     "output_type": "display_data"
    }
   ],
   "source": [
    "from IPython.display import display\n",
    "list_non_binary=[]\n",
    "for idx,feat in enumerate(non_binary):\n",
    "    df_group = df_full_train.groupby(feat).diabetes.agg(['mean'])\n",
    "    df_group['risk']= df_group['mean']/global_risk\n",
    "    plt.subplot(220+idx+1)\n",
    "    plt.plot(df_group.index.values,df_group.risk.values)\n",
    "    plt.title(feat)\n",
    "plt.suptitle('Risk vs Feature')\n",
    "plt.tight_layout()\n",
    "plt.show()"
   ]
  },
  {
   "cell_type": "markdown",
   "id": "f5fe9f20-7c64-4024-b5b7-116b891c0e24",
   "metadata": {},
   "source": [
    "From the graphs of the risk of discrete variables, we observe that people with lower income, poor education and older of age are more likely to suffer from diabetes. \\\n"
   ]
  },
  {
   "cell_type": "code",
   "execution_count": 10,
   "id": "b31909f4-3eeb-46c6-9556-ba454b2eeb22",
   "metadata": {},
   "outputs": [
    {
     "data": {
      "text/plain": [
       "highbp                  0.034604\n",
       "age                     0.019799\n",
       "highchol                0.019593\n",
       "diffwalk                0.019550\n",
       "income                  0.013187\n",
       "heartdiseaseorattack    0.012123\n",
       "education               0.007462\n",
       "physactivity            0.006539\n",
       "stroke                  0.004089\n",
       "cholcheck               0.003007\n",
       "hvyalcoholconsump       0.002004\n",
       "smoker                  0.001760\n",
       "veggies                 0.001471\n",
       "fruits                  0.000843\n",
       "nodocbccost             0.000508\n",
       "sex                     0.000482\n",
       "anyhealthcare           0.000120\n",
       "dtype: float64"
      ]
     },
     "execution_count": 10,
     "metadata": {},
     "output_type": "execute_result"
    }
   ],
   "source": [
    "#Using mutual information for binary and non-binary categorical variables\n",
    "from sklearn.metrics import mutual_info_score\n",
    "df_mutual_info_score=df_full_train[binary+non_binary].apply(lambda x:mutual_info_score(x,df_full_train.diabetes))\n",
    "df_mutual_info_score.sort_values(ascending=False)"
   ]
  },
  {
   "cell_type": "markdown",
   "id": "8d01332e-16e0-4b2c-8779-a203cca0f8fd",
   "metadata": {},
   "source": [
    "According to the mutual information score, the most powerful indicators are general health, high blood presure, age, high cholesterol and difficulty walking."
   ]
  },
  {
   "cell_type": "markdown",
   "id": "37e9b9d1-83d8-41b4-91c4-074d59b17c09",
   "metadata": {},
   "source": [
    "### Feature Importance - Correlation"
   ]
  },
  {
   "cell_type": "code",
   "execution_count": 11,
   "id": "18204889-adc4-4d80-a6fe-8a662759be7c",
   "metadata": {},
   "outputs": [
    {
     "data": {
      "text/plain": [
       "bmi          0.216998\n",
       "age          0.175756\n",
       "physhlth     0.170857\n",
       "menthlth     0.068832\n",
       "education   -0.123274\n",
       "income      -0.162109\n",
       "dtype: float64"
      ]
     },
     "execution_count": 11,
     "metadata": {},
     "output_type": "execute_result"
    }
   ],
   "source": [
    "numerical = ['bmi','menthlth','physhlth','age','education','income']\n",
    "#numerical = ['bmi','menthlth','physhlth','age','education','income','genhlth']\n",
    "df_corr=df_full_train[numerical].corrwith(df_full_train.diabetes)\n",
    "df_corr.sort_values(ascending=False)"
   ]
  },
  {
   "cell_type": "markdown",
   "id": "8f50b9bf-fc5b-4002-8595-83546ba8cf2b",
   "metadata": {},
   "source": [
    "Body Max Index have a positive moderate correlation with the target. The more body index mass, the more likely to have diabetes \\\n",
    "The other numerical values have low correlation."
   ]
  },
  {
   "cell_type": "markdown",
   "id": "80d92cf4-ebed-44c6-a911-eedce077f50f",
   "metadata": {},
   "source": [
    "## Model Training"
   ]
  },
  {
   "cell_type": "markdown",
   "id": "01e907b0-d86a-4913-b49e-82d123c48ea2",
   "metadata": {},
   "source": [
    "DISCUSSION: In this dataset we encounter discrete ordinal variables, for example, the age that is divided in groups of 13 ages: 1 = 18-24 9 = 60-64 13 = 80 or older (ics.uci.edu). I am assuming it is correct to treat it as numerical variable because there is an intrinsic scale an order. On the other hand, if i were to hot-encode it, we would lose the order information. Even more, the graphs risk vs feature show that there is some linear behaviour."
   ]
  },
  {
   "cell_type": "code",
   "execution_count": 12,
   "id": "b0809e92-5260-4980-b35d-a7192d8637f3",
   "metadata": {},
   "outputs": [],
   "source": [
    "from sklearn.feature_extraction import DictVectorizer"
   ]
  },
  {
   "cell_type": "markdown",
   "id": "e84a141d-c24e-4ece-a0eb-396afbbad31f",
   "metadata": {},
   "source": [
    "### One-hot encoding"
   ]
  },
  {
   "cell_type": "code",
   "execution_count": 13,
   "id": "60285160-20ce-4516-bc23-b145a7a47b22",
   "metadata": {},
   "outputs": [],
   "source": [
    "dv = DictVectorizer(sparse=False)"
   ]
  },
  {
   "cell_type": "code",
   "execution_count": 14,
   "id": "79d659a3-8773-4497-9a49-1a87f3bf9c84",
   "metadata": {},
   "outputs": [],
   "source": [
    "del df_full_train['diabetes']"
   ]
  },
  {
   "cell_type": "code",
   "execution_count": 15,
   "id": "93b4ee6a-da52-4e6e-bd67-c4c32b6f8f25",
   "metadata": {},
   "outputs": [],
   "source": [
    "dict_test = df_test.to_dict(orient='records')\n",
    "dict_val = df_val.to_dict(orient='records')\n",
    "dict_train = df_train.to_dict(orient='records')\n",
    "dict_full_train = df_full_train.to_dict(orient='records')\n",
    "\n",
    "X_test = dv.fit_transform(dict_test)\n",
    "X_full_train = dv.transform(dict_full_train)\n",
    "X_train = dv.transform(dict_train)\n",
    "X_val = dv.transform(dict_val)"
   ]
  },
  {
   "cell_type": "code",
   "execution_count": 16,
   "id": "3595722a-549c-4486-93b0-e588099ba76b",
   "metadata": {},
   "outputs": [
    {
     "data": {
      "text/plain": [
       "array(['age', 'anyhealthcare', 'bmi', 'cholcheck', 'diffwalk',\n",
       "       'education', 'fruits', 'heartdiseaseorattack', 'highbp',\n",
       "       'highchol', 'hvyalcoholconsump', 'income', 'menthlth',\n",
       "       'nodocbccost', 'physactivity', 'physhlth', 'sex', 'smoker',\n",
       "       'stroke', 'veggies'], dtype=object)"
      ]
     },
     "execution_count": 16,
     "metadata": {},
     "output_type": "execute_result"
    }
   ],
   "source": [
    "dv.get_feature_names_out()"
   ]
  },
  {
   "cell_type": "markdown",
   "id": "d69ad776-3d1b-491c-a19c-7d7a7da0b9c5",
   "metadata": {},
   "source": [
    "Acually, the encoding is not necessary, as the non-binary discrete variables are taken as numerical by the dict vectorizer"
   ]
  },
  {
   "cell_type": "markdown",
   "id": "78d53f95-706a-4a9f-be04-4a1283b0df7b",
   "metadata": {},
   "source": [
    "We will train, tune and compare three models:\n",
    "- Logistic Regression\n",
    "- Decision Tree\n",
    "- Random Forest"
   ]
  },
  {
   "cell_type": "code",
   "execution_count": 17,
   "id": "b93ada2a-cb8e-48db-98f3-a2b497080a26",
   "metadata": {},
   "outputs": [],
   "source": [
    "from sklearn.metrics import auc\n",
    "from sklearn.metrics import roc_auc_score\n",
    "\n",
    "model_scores=[]"
   ]
  },
  {
   "cell_type": "markdown",
   "id": "d7db1fd2-e9ab-41ff-b098-28963ed11c7d",
   "metadata": {},
   "source": [
    "### Logistic Regression\n",
    "We will tune the regularization parameter C"
   ]
  },
  {
   "cell_type": "code",
   "execution_count": 18,
   "id": "cd8866d6-c6ad-4b96-ae0f-67c84ad3b3bc",
   "metadata": {},
   "outputs": [],
   "source": [
    "from sklearn.linear_model import LogisticRegression"
   ]
  },
  {
   "cell_type": "code",
   "execution_count": 19,
   "id": "8f8627dc-04b3-4ffe-9abd-087bc1b8edf0",
   "metadata": {},
   "outputs": [
    {
     "name": "stderr",
     "output_type": "stream",
     "text": [
      "/home/paul/anaconda3/envs/ml-zoomcamp/lib/python3.9/site-packages/sklearn/linear_model/_logistic.py:460: ConvergenceWarning: lbfgs failed to converge (status=1):\n",
      "STOP: TOTAL NO. of ITERATIONS REACHED LIMIT.\n",
      "\n",
      "Increase the number of iterations (max_iter) or scale the data as shown in:\n",
      "    https://scikit-learn.org/stable/modules/preprocessing.html\n",
      "Please also refer to the documentation for alternative solver options:\n",
      "    https://scikit-learn.org/stable/modules/linear_model.html#logistic-regression\n",
      "  n_iter_i = _check_optimize_result(\n",
      "/home/paul/anaconda3/envs/ml-zoomcamp/lib/python3.9/site-packages/sklearn/linear_model/_logistic.py:460: ConvergenceWarning: lbfgs failed to converge (status=1):\n",
      "STOP: TOTAL NO. of ITERATIONS REACHED LIMIT.\n",
      "\n",
      "Increase the number of iterations (max_iter) or scale the data as shown in:\n",
      "    https://scikit-learn.org/stable/modules/preprocessing.html\n",
      "Please also refer to the documentation for alternative solver options:\n",
      "    https://scikit-learn.org/stable/modules/linear_model.html#logistic-regression\n",
      "  n_iter_i = _check_optimize_result(\n",
      "/home/paul/anaconda3/envs/ml-zoomcamp/lib/python3.9/site-packages/sklearn/linear_model/_logistic.py:460: ConvergenceWarning: lbfgs failed to converge (status=1):\n",
      "STOP: TOTAL NO. of ITERATIONS REACHED LIMIT.\n",
      "\n",
      "Increase the number of iterations (max_iter) or scale the data as shown in:\n",
      "    https://scikit-learn.org/stable/modules/preprocessing.html\n",
      "Please also refer to the documentation for alternative solver options:\n",
      "    https://scikit-learn.org/stable/modules/linear_model.html#logistic-regression\n",
      "  n_iter_i = _check_optimize_result(\n",
      "/home/paul/anaconda3/envs/ml-zoomcamp/lib/python3.9/site-packages/sklearn/linear_model/_logistic.py:460: ConvergenceWarning: lbfgs failed to converge (status=1):\n",
      "STOP: TOTAL NO. of ITERATIONS REACHED LIMIT.\n",
      "\n",
      "Increase the number of iterations (max_iter) or scale the data as shown in:\n",
      "    https://scikit-learn.org/stable/modules/preprocessing.html\n",
      "Please also refer to the documentation for alternative solver options:\n",
      "    https://scikit-learn.org/stable/modules/linear_model.html#logistic-regression\n",
      "  n_iter_i = _check_optimize_result(\n",
      "/home/paul/anaconda3/envs/ml-zoomcamp/lib/python3.9/site-packages/sklearn/linear_model/_logistic.py:460: ConvergenceWarning: lbfgs failed to converge (status=1):\n",
      "STOP: TOTAL NO. of ITERATIONS REACHED LIMIT.\n",
      "\n",
      "Increase the number of iterations (max_iter) or scale the data as shown in:\n",
      "    https://scikit-learn.org/stable/modules/preprocessing.html\n",
      "Please also refer to the documentation for alternative solver options:\n",
      "    https://scikit-learn.org/stable/modules/linear_model.html#logistic-regression\n",
      "  n_iter_i = _check_optimize_result(\n",
      "/home/paul/anaconda3/envs/ml-zoomcamp/lib/python3.9/site-packages/sklearn/linear_model/_logistic.py:460: ConvergenceWarning: lbfgs failed to converge (status=1):\n",
      "STOP: TOTAL NO. of ITERATIONS REACHED LIMIT.\n",
      "\n",
      "Increase the number of iterations (max_iter) or scale the data as shown in:\n",
      "    https://scikit-learn.org/stable/modules/preprocessing.html\n",
      "Please also refer to the documentation for alternative solver options:\n",
      "    https://scikit-learn.org/stable/modules/linear_model.html#logistic-regression\n",
      "  n_iter_i = _check_optimize_result(\n"
     ]
    }
   ],
   "source": [
    "random_state=0\n",
    "Cs = [0.0001,0.001,0.01,0.1,1.0,10.0,100.0]\n",
    "scores=[]\n",
    "for C in Cs:\n",
    "    model = LogisticRegression(C=C,random_state=random_state)\n",
    "    model.fit(X_train,y_train)\n",
    "    y_pred = model.predict_proba(X_val)[:,1]\n",
    "    scores.append(roc_auc_score(y_val,y_pred))"
   ]
  },
  {
   "cell_type": "code",
   "execution_count": 20,
   "id": "c9a318f2-447b-4210-8d0d-182cb8d02c55",
   "metadata": {},
   "outputs": [
    {
     "data": {
      "text/html": [
       "<div>\n",
       "<style scoped>\n",
       "    .dataframe tbody tr th:only-of-type {\n",
       "        vertical-align: middle;\n",
       "    }\n",
       "\n",
       "    .dataframe tbody tr th {\n",
       "        vertical-align: top;\n",
       "    }\n",
       "\n",
       "    .dataframe thead th {\n",
       "        text-align: right;\n",
       "    }\n",
       "</style>\n",
       "<table border=\"1\" class=\"dataframe\">\n",
       "  <thead>\n",
       "    <tr style=\"text-align: right;\">\n",
       "      <th></th>\n",
       "      <th>C</th>\n",
       "      <th>roc_auc_score</th>\n",
       "    </tr>\n",
       "  </thead>\n",
       "  <tbody>\n",
       "    <tr>\n",
       "      <th>0</th>\n",
       "      <td>0.0010</td>\n",
       "      <td>0.801387</td>\n",
       "    </tr>\n",
       "    <tr>\n",
       "      <th>1</th>\n",
       "      <td>1.0000</td>\n",
       "      <td>0.798556</td>\n",
       "    </tr>\n",
       "    <tr>\n",
       "      <th>2</th>\n",
       "      <td>0.1000</td>\n",
       "      <td>0.798167</td>\n",
       "    </tr>\n",
       "    <tr>\n",
       "      <th>3</th>\n",
       "      <td>10.0000</td>\n",
       "      <td>0.797288</td>\n",
       "    </tr>\n",
       "    <tr>\n",
       "      <th>4</th>\n",
       "      <td>100.0000</td>\n",
       "      <td>0.797206</td>\n",
       "    </tr>\n",
       "    <tr>\n",
       "      <th>5</th>\n",
       "      <td>0.0100</td>\n",
       "      <td>0.796143</td>\n",
       "    </tr>\n",
       "    <tr>\n",
       "      <th>6</th>\n",
       "      <td>0.0001</td>\n",
       "      <td>0.790225</td>\n",
       "    </tr>\n",
       "  </tbody>\n",
       "</table>\n",
       "</div>"
      ],
      "text/plain": [
       "          C  roc_auc_score\n",
       "0    0.0010       0.801387\n",
       "1    1.0000       0.798556\n",
       "2    0.1000       0.798167\n",
       "3   10.0000       0.797288\n",
       "4  100.0000       0.797206\n",
       "5    0.0100       0.796143\n",
       "6    0.0001       0.790225"
      ]
     },
     "execution_count": 20,
     "metadata": {},
     "output_type": "execute_result"
    }
   ],
   "source": [
    "sc=list(zip(Cs,scores))\n",
    "df_lr_scores = pd.DataFrame(sc,columns=['C','roc_auc_score'])\n",
    "df_lr_scores.sort_values(by='roc_auc_score',ascending=False,inplace=True)\n",
    "df_lr_scores.reset_index(drop=True,inplace=True)\n",
    "df_lr_scores"
   ]
  },
  {
   "cell_type": "markdown",
   "id": "7677c758-4490-4191-8064-d477be589048",
   "metadata": {},
   "source": [
    "The best parameter C is 10."
   ]
  },
  {
   "cell_type": "code",
   "execution_count": 24,
   "id": "ea6f25b7-6a3e-404a-97da-2936a7a1b7d9",
   "metadata": {},
   "outputs": [
    {
     "name": "stderr",
     "output_type": "stream",
     "text": [
      "/home/paul/anaconda3/envs/ml-zoomcamp/lib/python3.9/site-packages/sklearn/linear_model/_logistic.py:460: ConvergenceWarning: lbfgs failed to converge (status=1):\n",
      "STOP: TOTAL NO. of ITERATIONS REACHED LIMIT.\n",
      "\n",
      "Increase the number of iterations (max_iter) or scale the data as shown in:\n",
      "    https://scikit-learn.org/stable/modules/preprocessing.html\n",
      "Please also refer to the documentation for alternative solver options:\n",
      "    https://scikit-learn.org/stable/modules/linear_model.html#logistic-regression\n",
      "  n_iter_i = _check_optimize_result(\n"
     ]
    }
   ],
   "source": [
    "model = LogisticRegression(C=10,random_state=random_state)\n",
    "model.fit(X_full_train,y_full_train)\n",
    "y_pred = model.predict_proba(X_test)[:,1]\n",
    "roc = roc_auc_score(y_test,y_pred)\n",
    "model_scores.append(('LogisticRegression',roc))"
   ]
  },
  {
   "cell_type": "markdown",
   "id": "d9d13a96-ffb5-4017-a894-ee906a479a67",
   "metadata": {},
   "source": [
    "### Decision Tree\n",
    "We will tune the parameters: max_depth, min_samples_leaf"
   ]
  },
  {
   "cell_type": "code",
   "execution_count": 25,
   "id": "e1c903de-859d-45a1-a9ac-0ef7b2cc61c2",
   "metadata": {},
   "outputs": [],
   "source": [
    "from sklearn.tree import DecisionTreeClassifier"
   ]
  },
  {
   "cell_type": "code",
   "execution_count": 26,
   "id": "64219e79-6e00-44c5-ae0f-3dad606684c5",
   "metadata": {},
   "outputs": [
    {
     "name": "stdout",
     "output_type": "stream",
     "text": [
      "   1 --> 0.684\n",
      "   2 --> 0.725\n",
      "   3 --> 0.753\n",
      "   4 --> 0.770\n",
      "   5 --> 0.782\n",
      "   6 --> 0.788\n",
      "  10 --> 0.781\n",
      "  15 --> 0.691\n",
      "  20 --> 0.607\n",
      "None --> 0.580\n"
     ]
    }
   ],
   "source": [
    "ds = [1,2,3,4,5,6,10,15,20,None]\n",
    "scores = []\n",
    "for d in ds:\n",
    "    dt = DecisionTreeClassifier(max_depth=d)\n",
    "    dt.fit(X_train,y_train)\n",
    "    y_pred = dt.predict_proba(X_val)[:,1]\n",
    "    auc = roc_auc_score(y_val,y_pred)\n",
    "    print(f'{str(d):>4s} --> {auc:.3f}')"
   ]
  },
  {
   "cell_type": "markdown",
   "id": "f325fa27-c8e3-466d-8655-0acaeabd88ae",
   "metadata": {},
   "source": [
    "The best parameters for max_depth are 5,6,10"
   ]
  },
  {
   "cell_type": "code",
   "execution_count": 27,
   "id": "c3bc551f-1522-4b68-b403-db7d6dd9441c",
   "metadata": {},
   "outputs": [],
   "source": [
    "ds=[1,2,5,6,10,20]\n",
    "ls = [1,2,5,10,15,20,100,200,500,1000]\n",
    "scores = []\n",
    "for d in ds:\n",
    "    for l in ls:\n",
    "        dt = DecisionTreeClassifier(max_depth=d,min_samples_leaf=l)\n",
    "        dt.fit(X_train,y_train)\n",
    "        y_pred = dt.predict_proba(X_val)[:,1]\n",
    "        auc = roc_auc_score(y_val,y_pred)\n",
    "        scores.append((d,l,auc))\n"
   ]
  },
  {
   "cell_type": "code",
   "execution_count": 28,
   "id": "7d5972b3-db4d-45ad-a3d9-1491181a78a0",
   "metadata": {},
   "outputs": [
    {
     "data": {
      "text/html": [
       "<div>\n",
       "<style scoped>\n",
       "    .dataframe tbody tr th:only-of-type {\n",
       "        vertical-align: middle;\n",
       "    }\n",
       "\n",
       "    .dataframe tbody tr th {\n",
       "        vertical-align: top;\n",
       "    }\n",
       "\n",
       "    .dataframe thead th {\n",
       "        text-align: right;\n",
       "    }\n",
       "</style>\n",
       "<table border=\"1\" class=\"dataframe\">\n",
       "  <thead>\n",
       "    <tr style=\"text-align: right;\">\n",
       "      <th></th>\n",
       "      <th>max_depth</th>\n",
       "      <th>min_samples_leaf</th>\n",
       "      <th>auc</th>\n",
       "    </tr>\n",
       "  </thead>\n",
       "  <tbody>\n",
       "    <tr>\n",
       "      <th>0</th>\n",
       "      <td>10</td>\n",
       "      <td>200</td>\n",
       "      <td>0.794974</td>\n",
       "    </tr>\n",
       "    <tr>\n",
       "      <th>1</th>\n",
       "      <td>20</td>\n",
       "      <td>200</td>\n",
       "      <td>0.794653</td>\n",
       "    </tr>\n",
       "    <tr>\n",
       "      <th>2</th>\n",
       "      <td>20</td>\n",
       "      <td>500</td>\n",
       "      <td>0.793486</td>\n",
       "    </tr>\n",
       "    <tr>\n",
       "      <th>3</th>\n",
       "      <td>10</td>\n",
       "      <td>500</td>\n",
       "      <td>0.793371</td>\n",
       "    </tr>\n",
       "    <tr>\n",
       "      <th>4</th>\n",
       "      <td>20</td>\n",
       "      <td>1000</td>\n",
       "      <td>0.792176</td>\n",
       "    </tr>\n",
       "    <tr>\n",
       "      <th>5</th>\n",
       "      <td>10</td>\n",
       "      <td>1000</td>\n",
       "      <td>0.792112</td>\n",
       "    </tr>\n",
       "    <tr>\n",
       "      <th>6</th>\n",
       "      <td>10</td>\n",
       "      <td>100</td>\n",
       "      <td>0.791745</td>\n",
       "    </tr>\n",
       "    <tr>\n",
       "      <th>7</th>\n",
       "      <td>20</td>\n",
       "      <td>100</td>\n",
       "      <td>0.789191</td>\n",
       "    </tr>\n",
       "    <tr>\n",
       "      <th>8</th>\n",
       "      <td>6</td>\n",
       "      <td>100</td>\n",
       "      <td>0.788037</td>\n",
       "    </tr>\n",
       "    <tr>\n",
       "      <th>9</th>\n",
       "      <td>6</td>\n",
       "      <td>20</td>\n",
       "      <td>0.787961</td>\n",
       "    </tr>\n",
       "  </tbody>\n",
       "</table>\n",
       "</div>"
      ],
      "text/plain": [
       "   max_depth  min_samples_leaf       auc\n",
       "0         10               200  0.794974\n",
       "1         20               200  0.794653\n",
       "2         20               500  0.793486\n",
       "3         10               500  0.793371\n",
       "4         20              1000  0.792176\n",
       "5         10              1000  0.792112\n",
       "6         10               100  0.791745\n",
       "7         20               100  0.789191\n",
       "8          6               100  0.788037\n",
       "9          6                20  0.787961"
      ]
     },
     "execution_count": 28,
     "metadata": {},
     "output_type": "execute_result"
    }
   ],
   "source": [
    "df_dt_scores = pd.DataFrame(scores,columns=['max_depth','min_samples_leaf','auc'])\n",
    "df_dt_scores.sort_values(by='auc',ascending=False,inplace=True)\n",
    "df_dt_scores.reset_index(drop=True,inplace=True)\n",
    "df_dt_scores.head(10)"
   ]
  },
  {
   "cell_type": "markdown",
   "id": "57fca640-c55c-402a-ac01-1596ed1607c9",
   "metadata": {},
   "source": [
    "Although the best parameters are max_depth=10,min_samples_leaf=200, we prefer the least max_depth that performs as good as the best one. \\\n",
    "max_depth=6 min_smples_leaf=500"
   ]
  },
  {
   "cell_type": "code",
   "execution_count": 33,
   "id": "291ab6bf-880d-4fa2-9601-382faed272de",
   "metadata": {},
   "outputs": [],
   "source": [
    "dt = DecisionTreeClassifier(max_depth=6,min_samples_leaf=500)\n",
    "dt.fit(X_full_train,y_full_train)\n",
    "y_pred = dt.predict_proba(X_test)[:,1]\n",
    "roc = roc_auc_score(y_test,y_pred)\n",
    "model_scores.append(('DecisionTree',roc))"
   ]
  },
  {
   "cell_type": "markdown",
   "id": "6c83f1ee-4f53-4bcb-9ee3-5e6a1fb667fd",
   "metadata": {},
   "source": [
    "### Random Forest"
   ]
  },
  {
   "cell_type": "markdown",
   "id": "aa12e9cb-b1ec-4600-8a47-1022c2f795b6",
   "metadata": {},
   "source": [
    "We will tune the parameters n_estimators, max_depth"
   ]
  },
  {
   "cell_type": "code",
   "execution_count": 38,
   "id": "454cafe2-3853-40c6-ba99-db43d122cbaf",
   "metadata": {},
   "outputs": [],
   "source": [
    "from sklearn.ensemble import RandomForestClassifier"
   ]
  },
  {
   "cell_type": "code",
   "execution_count": 41,
   "id": "6bd82282-c149-41b2-972b-a2c098e2fc0a",
   "metadata": {},
   "outputs": [
    {
     "name": "stderr",
     "output_type": "stream",
     "text": [
      "100%|███████████████████████████████████████| 20/20 [06:03<00:00, 18.19s/it]\n"
     ]
    }
   ],
   "source": [
    "import tqdm\n",
    "ns = list(range(10,201,10))\n",
    "scores = []\n",
    "for n in tqdm.tqdm(ns):\n",
    "    rf = RandomForestClassifier(n_estimators=n,random_state=1)\n",
    "    rf.fit(X_train,y_train)\n",
    "    y_pred = rf.predict_proba(X_val)[:,1]\n",
    "    roc = roc_auc_score(y_val,y_pred)\n",
    "    scores.append((n,roc))"
   ]
  },
  {
   "cell_type": "code",
   "execution_count": 44,
   "id": "2e46a5e9-4c76-4fba-91bc-095f9c129947",
   "metadata": {},
   "outputs": [
    {
     "name": "stdout",
     "output_type": "stream",
     "text": [
      "    n_estimators  roc_auc_score\n",
      "19           200       0.773983\n",
      "17           180       0.773891\n",
      "18           190       0.773861\n",
      "16           170       0.773511\n",
      "15           160       0.773332\n",
      "14           150       0.772852\n",
      "13           140       0.772440\n",
      "12           130       0.772231\n",
      "11           120       0.772116\n",
      "10           110       0.771689\n",
      "9            100       0.771239\n",
      "8             90       0.770629\n",
      "7             80       0.769787\n",
      "6             70       0.768970\n",
      "5             60       0.767595\n",
      "4             50       0.766000\n",
      "3             40       0.763420\n",
      "2             30       0.759800\n",
      "1             20       0.751308\n",
      "0             10       0.731029\n"
     ]
    }
   ],
   "source": [
    "df_rf_scores=pd.DataFrame(scores,columns=['n_estimators','roc_auc_score'])\n",
    "df_rf_scores.sort_values(by='roc_auc_score',ascending=False,inplace=True)\n",
    "df_rf_scores.reset_index(drop=True)\n",
    "print(df_rf_scores)"
   ]
  },
  {
   "cell_type": "code",
   "execution_count": 45,
   "id": "663ca8b5-8cac-406e-8b40-4299f5344dbd",
   "metadata": {},
   "outputs": [
    {
     "data": {
      "text/plain": [
       "[<matplotlib.lines.Line2D at 0x7f8ef82957f0>]"
      ]
     },
     "execution_count": 45,
     "metadata": {},
     "output_type": "execute_result"
    },
    {
     "data": {
      "image/png": "[encoded data removed]",
      "text/plain": [
       "<Figure size 640x480 with 1 Axes>"
      ]
     },
     "metadata": {},
     "output_type": "display_data"
    }
   ],
   "source": [
    "plt.plot(df_rf_scores.n_estimators,df_rf_scores.roc_auc_score)"
   ]
  },
  {
   "cell_type": "markdown",
   "id": "ba906c2f-d6e3-4d72-9dd1-c53a8a422bba",
   "metadata": {},
   "source": [
    "As we see in the graph, the improvement in performance after n_estimators=125 is negligible. \\\n",
    "Best parameter: n_estimators=125"
   ]
  },
  {
   "cell_type": "code",
   "execution_count": 48,
   "id": "7b6fef87-a09c-42ae-8ba3-978b0648839f",
   "metadata": {},
   "outputs": [
    {
     "name": "stderr",
     "output_type": "stream",
     "text": [
      "100%|█████████████████████████████████████████| 4/4 [01:02<00:00, 15.60s/it]\n"
     ]
    }
   ],
   "source": [
    "import tqdm\n",
    "ds = [5,10,15,30]\n",
    "scores = []\n",
    "for d in tqdm.tqdm(ds):\n",
    "    rf = RandomForestClassifier(n_estimators=125,max_depth=d,random_state=1)\n",
    "    rf.fit(X_train,y_train)\n",
    "    y_pred = rf.predict_proba(X_val)[:,1]\n",
    "    roc = roc_auc_score(y_val,y_pred)\n",
    "    scores.append((d,roc))"
   ]
  },
  {
   "cell_type": "markdown",
   "id": "761c3361-89a9-4505-9804-53c87e6824e8",
   "metadata": {},
   "source": [
    "Because the model is taking too long to train, I just used the best n_estimator found previously, which is not ideal."
   ]
  },
  {
   "cell_type": "code",
   "execution_count": 49,
   "id": "744a9057-f321-4386-adf9-103bc2778d61",
   "metadata": {},
   "outputs": [
    {
     "name": "stdout",
     "output_type": "stream",
     "text": [
      "   max_depth  roc_auc_score\n",
      "1         10       0.806390\n",
      "2         15       0.805213\n",
      "0          5       0.798334\n",
      "3         30       0.775216\n"
     ]
    }
   ],
   "source": [
    "df_rf_scores_d=pd.DataFrame(scores,columns=['max_depth','roc_auc_score'])\n",
    "df_rf_scores_d.sort_values(by='roc_auc_score',ascending=False,inplace=True)\n",
    "df_rf_scores_d.reset_index(drop=True)\n",
    "print(df_rf_scores_d)"
   ]
  },
  {
   "cell_type": "code",
   "execution_count": 51,
   "id": "762df26a-e3a3-4a03-b729-b0a0f2e9be06",
   "metadata": {},
   "outputs": [
    {
     "data": {
      "text/plain": [
       "[<matplotlib.lines.Line2D at 0x7f8ef82a2160>]"
      ]
     },
     "execution_count": 51,
     "metadata": {},
     "output_type": "execute_result"
    },
    {
     "data": {
      "image/png": "[encoded data removed]",
      "text/plain": [
       "<Figure size 640x480 with 1 Axes>"
      ]
     },
     "metadata": {},
     "output_type": "display_data"
    }
   ],
   "source": [
    "plt.plot(df_rf_scores_d.sort_values(by='max_depth').max_depth,df_rf_scores_d.sort_values(by='max_depth').roc_auc_score)"
   ]
  },
  {
   "cell_type": "markdown",
   "id": "c27245e4-eb9f-4961-abaa-45283793786d",
   "metadata": {},
   "source": [
    "Clearly, max_depth=10 is the best parameter"
   ]
  },
  {
   "cell_type": "code",
   "execution_count": 52,
   "id": "87ee76ae-5fa8-4f1b-b998-9227930a432f",
   "metadata": {},
   "outputs": [
    {
     "name": "stderr",
     "output_type": "stream",
     "text": [
      "100%|█████████████████████████████████████████| 5/5 [01:03<00:00, 12.73s/it]\n"
     ]
    }
   ],
   "source": [
    "import tqdm\n",
    "ls = [1,3,5,10,50]\n",
    "scores = []\n",
    "for l in tqdm.tqdm(ls):\n",
    "    rf = RandomForestClassifier(n_estimators=125,\n",
    "                                max_depth=10,\n",
    "                                min_samples_leaf=l,\n",
    "                                random_state=1)\n",
    "    rf.fit(X_train,y_train)\n",
    "    y_pred = rf.predict_proba(X_val)[:,1]\n",
    "    roc = roc_auc_score(y_val,y_pred)\n",
    "    scores.append((l,roc))"
   ]
  },
  {
   "cell_type": "code",
   "execution_count": 54,
   "id": "43026a00-440c-4aa7-bb02-9253b01ff9c7",
   "metadata": {},
   "outputs": [
    {
     "name": "stdout",
     "output_type": "stream",
     "text": [
      "   min_samples_leaf  roc_auc_score\n",
      "1                 3       0.806759\n",
      "3                10       0.806568\n",
      "2                 5       0.806500\n",
      "0                 1       0.806390\n",
      "4                50       0.806079\n"
     ]
    }
   ],
   "source": [
    "df_rf_scores_l=pd.DataFrame(scores,columns=['min_samples_leaf','roc_auc_score'])\n",
    "print(df_rf_scores_l.sort_values(by='roc_auc_score',ascending=False))"
   ]
  },
  {
   "cell_type": "code",
   "execution_count": 55,
   "id": "f02aedef-13b0-4955-acd3-e5075d0682cd",
   "metadata": {},
   "outputs": [
    {
     "data": {
      "text/plain": [
       "[<matplotlib.lines.Line2D at 0x7f8ef8ce53a0>]"
      ]
     },
     "execution_count": 55,
     "metadata": {},
     "output_type": "execute_result"
    },
    {
     "data": {
      "image/png": "[encoded data removed]",
      "text/plain": [
       "<Figure size 640x480 with 1 Axes>"
      ]
     },
     "metadata": {},
     "output_type": "display_data"
    }
   ],
   "source": [
    "plt.plot(df_rf_scores_l.min_samples_leaf,df_rf_scores_l.roc_auc_score)"
   ]
  },
  {
   "cell_type": "markdown",
   "id": "c20f0e8c-81c8-473d-94c1-296a62e849bb",
   "metadata": {},
   "source": [
    "The best parameter for min_samples_leaf=3"
   ]
  },
  {
   "cell_type": "code",
   "execution_count": 56,
   "id": "ae9a97c3-b2e3-4867-9da8-128dfb16f309",
   "metadata": {},
   "outputs": [],
   "source": [
    "rf = RandomForestClassifier(n_estimators=125,\n",
    "                                max_depth=10,\n",
    "                                min_samples_leaf=3,\n",
    "                                random_state=1)\n",
    "rf.fit(X_full_train,y_full_train)\n",
    "y_pred = rf.predict_proba(X_test)[:,1]\n",
    "roc = roc_auc_score(y_test,y_pred)\n",
    "model_scores.append(('RandomForest',roc))"
   ]
  },
  {
   "cell_type": "markdown",
   "id": "474968b4-0ac2-4a14-8d04-38571a0bf961",
   "metadata": {},
   "source": [
    "### Comparing the models"
   ]
  },
  {
   "cell_type": "code",
   "execution_count": 60,
   "id": "5f45a6bd-c7e9-4923-9a97-05aa0ffdc759",
   "metadata": {},
   "outputs": [
    {
     "data": {
      "text/html": [
       "<div>\n",
       "<style scoped>\n",
       "    .dataframe tbody tr th:only-of-type {\n",
       "        vertical-align: middle;\n",
       "    }\n",
       "\n",
       "    .dataframe tbody tr th {\n",
       "        vertical-align: top;\n",
       "    }\n",
       "\n",
       "    .dataframe thead th {\n",
       "        text-align: right;\n",
       "    }\n",
       "</style>\n",
       "<table border=\"1\" class=\"dataframe\">\n",
       "  <thead>\n",
       "    <tr style=\"text-align: right;\">\n",
       "      <th></th>\n",
       "      <th>Model</th>\n",
       "      <th>roc_auc_score</th>\n",
       "    </tr>\n",
       "  </thead>\n",
       "  <tbody>\n",
       "    <tr>\n",
       "      <th>0</th>\n",
       "      <td>RandomForest</td>\n",
       "      <td>0.815228</td>\n",
       "    </tr>\n",
       "    <tr>\n",
       "      <th>1</th>\n",
       "      <td>LogisticRegression</td>\n",
       "      <td>0.805113</td>\n",
       "    </tr>\n",
       "    <tr>\n",
       "      <th>2</th>\n",
       "      <td>DecisionTree</td>\n",
       "      <td>0.796986</td>\n",
       "    </tr>\n",
       "  </tbody>\n",
       "</table>\n",
       "</div>"
      ],
      "text/plain": [
       "                Model  roc_auc_score\n",
       "0        RandomForest       0.815228\n",
       "1  LogisticRegression       0.805113\n",
       "2        DecisionTree       0.796986"
      ]
     },
     "execution_count": 60,
     "metadata": {},
     "output_type": "execute_result"
    }
   ],
   "source": [
    "df_model_scores = pd.DataFrame(model_scores,columns=['Model','roc_auc_score'])\n",
    "df_model_scores.sort_values(by='roc_auc_score',ascending=False).reset_index(drop=True)"
   ]
  },
  {
   "cell_type": "markdown",
   "id": "0dc3d96f-c6a6-4085-9a6a-4d3de1401726",
   "metadata": {},
   "source": [
    "The best model is  **RandomForest** with parameters:\n",
    "- n_estimators=125\n",
    "- max_depth=10\n",
    "- min_samples_leaf=3"
   ]
  },
  {
   "cell_type": "code",
   "execution_count": null,
   "id": "81969aaa-dded-4653-8aec-298b24daf104",
   "metadata": {},
   "outputs": [],
   "source": []
  }
 ],
 "metadata": {
  "kernelspec": {
   "display_name": "Python 3 (ipykernel)",
   "language": "python",
   "name": "python3"
  },
  "language_info": {
   "codemirror_mode": {
    "name": "ipython",
    "version": 3
   },
   "file_extension": ".py",
   "mimetype": "text/x-python",
   "name": "python",
   "nbconvert_exporter": "python",
   "pygments_lexer": "ipython3",
   "version": "3.9.18"
  }
 },
 "nbformat": 4,
 "nbformat_minor": 5
}
