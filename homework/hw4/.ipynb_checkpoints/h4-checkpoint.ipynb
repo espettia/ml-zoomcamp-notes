{
 "cells": [
  {
   "cell_type": "code",
   "execution_count": 1,
   "id": "0a758424-d290-4f6a-a70d-391864661558",
   "metadata": {},
   "outputs": [
    {
     "name": "stdout",
     "output_type": "stream",
     "text": [
      "--2023-10-05 19:22:17--  https://raw.githubusercontent.com/alexeygrigorev/mlbookcamp-code/master/chapter-02-car-price/data.csv\n",
      "Resolving raw.githubusercontent.com (raw.githubusercontent.com)... 185.199.108.133, 185.199.111.133, 185.199.110.133, ...\n",
      "Connecting to raw.githubusercontent.com (raw.githubusercontent.com)|185.199.108.133|:443... connected.\n",
      "HTTP request sent, awaiting response... 200 OK\n",
      "Length: 1475504 (1,4M) [text/plain]\n",
      "Saving to: ‘data.csv’\n",
      "\n",
      "data.csv            100%[===================>]   1,41M  --.-KB/s    in 0,1s    \n",
      "\n",
      "2023-10-05 19:22:17 (14,0 MB/s) - ‘data.csv’ saved [1475504/1475504]\n",
      "\n"
     ]
    }
   ],
   "source": [
    "!wget https://raw.githubusercontent.com/alexeygrigorev/mlbookcamp-code/master/chapter-02-car-price/data.csv"
   ]
  },
  {
   "cell_type": "code",
   "execution_count": 278,
   "id": "ec1e43b1-f0da-4c47-bd98-2f1bd7cedeba",
   "metadata": {},
   "outputs": [],
   "source": [
    "Target = 'MSRP'\n",
    "Features = ['Make',\n",
    "            'Model',\n",
    "            'Year',\n",
    "            'Engine HP',\n",
    "            'Engine Cylinders',\n",
    "            'Transmission Type',\n",
    "            'Vehicle Style',\n",
    "            'highway MPG',\n",
    "            'city mpg',]"
   ]
  },
  {
   "cell_type": "code",
   "execution_count": 279,
   "id": "72cffc42-ca1c-4bfa-8cd1-5cb86c6ddcf2",
   "metadata": {},
   "outputs": [],
   "source": [
    "import pandas as pd\n",
    "import numpy as np"
   ]
  },
  {
   "cell_type": "code",
   "execution_count": 280,
   "id": "66d5896c-9c47-4958-bae4-a83b5872394d",
   "metadata": {},
   "outputs": [],
   "source": [
    "DF = pd.read_csv('data.csv')"
   ]
  },
  {
   "cell_type": "code",
   "execution_count": 281,
   "id": "b04a6a6c-059d-4744-b322-493007efcb00",
   "metadata": {},
   "outputs": [],
   "source": [
    "features_target = [s.lower().replace(' ','_') for s in Features + [Target]]"
   ]
  },
  {
   "cell_type": "code",
   "execution_count": 282,
   "id": "243ee393-1917-4f64-a946-0b27b4949581",
   "metadata": {},
   "outputs": [],
   "source": [
    "Features = features_target[:-1]\n",
    "Target = features_target[-1]"
   ]
  },
  {
   "cell_type": "code",
   "execution_count": 283,
   "id": "dc2888f6-97ea-4812-8548-6f50da3c5e50",
   "metadata": {},
   "outputs": [],
   "source": [
    "DF.columns = DF.columns.str.lower().str.replace(' ','_')"
   ]
  },
  {
   "cell_type": "code",
   "execution_count": 284,
   "id": "265be04f-4f22-4cf4-bdf9-042e482cc5f7",
   "metadata": {},
   "outputs": [],
   "source": [
    "df = DF[features_target]"
   ]
  },
  {
   "cell_type": "code",
   "execution_count": 285,
   "id": "5eb3a651-7028-4c0e-85bd-27acbd43649c",
   "metadata": {},
   "outputs": [],
   "source": [
    "df = df.fillna(0)"
   ]
  },
  {
   "cell_type": "code",
   "execution_count": 286,
   "id": "6f9639e7-7824-415d-bb5b-ebbba1be9dcc",
   "metadata": {},
   "outputs": [],
   "source": [
    "#############################################################\n",
    "df.msrp = df.msrp>df.msrp.mean()\n",
    "target = 'above_average'\n",
    "df[target] = df.msrp.astype('int')\n",
    "del df['msrp']"
   ]
  },
  {
   "cell_type": "code",
   "execution_count": 287,
   "id": "2b5de4a4-fa0b-4cdc-8f5e-f8a4d02d8ad3",
   "metadata": {},
   "outputs": [],
   "source": [
    "from sklearn.model_selection import train_test_split"
   ]
  },
  {
   "cell_type": "code",
   "execution_count": 288,
   "id": "9d43bd33-2c27-4f46-b03c-b6920fb5516c",
   "metadata": {},
   "outputs": [],
   "source": [
    "seed = 2"
   ]
  },
  {
   "cell_type": "code",
   "execution_count": 289,
   "id": "4778eca7-d570-4ebc-9f39-abcfb117c957",
   "metadata": {},
   "outputs": [],
   "source": [
    "df_full_train, df_test = train_test_split(df,test_size=0.2,random_state=seed)"
   ]
  },
  {
   "cell_type": "code",
   "execution_count": 290,
   "id": "39fb1088-fba5-48b4-8987-4ccf9b169662",
   "metadata": {},
   "outputs": [],
   "source": [
    "df_train,df_val = train_test_split(df_full_train,test_size=0.2/0.8, random_state=seed)"
   ]
  },
  {
   "cell_type": "code",
   "execution_count": 220,
   "id": "48ec62e8-d302-42a2-9e76-39fafe4227d5",
   "metadata": {},
   "outputs": [],
   "source": [
    "y_test = df_test[target].values\n",
    "y_val = df_val[target].values\n",
    "y_train = df_train[target].values\n",
    "y_full_train = df_full_train[target].values\n",
    "\n",
    "for s in [df_test,df_val,df_train,df_full_train]:\n",
    "    del s[target]"
   ]
  },
  {
   "cell_type": "code",
   "execution_count": 221,
   "id": "245d30c0-e73b-412a-aa6e-85eb2281a9e6",
   "metadata": {},
   "outputs": [],
   "source": [
    "X_train = df_train.values\n",
    "X_full_train = df_full_train.values\n",
    "X_test = df_test.values\n",
    "X_val = df_val.values"
   ]
  },
  {
   "cell_type": "code",
   "execution_count": 222,
   "id": "543f41d6-1658-4c26-9bdf-4de64754c874",
   "metadata": {},
   "outputs": [
    {
     "data": {
      "text/plain": [
       "array(['year', 'engine_hp', 'engine_cylinders', 'highway_mpg', 'city_mpg'],\n",
       "      dtype=object)"
      ]
     },
     "execution_count": 222,
     "metadata": {},
     "output_type": "execute_result"
    }
   ],
   "source": [
    "numerical_features = df[features].select_dtypes(include=np.number).columns.values\n",
    "numerical_features"
   ]
  },
  {
   "cell_type": "code",
   "execution_count": 223,
   "id": "659f3699-def2-41f5-b695-46ada5c1e0a5",
   "metadata": {},
   "outputs": [],
   "source": [
    "from sklearn.metrics import roc_auc_score"
   ]
  },
  {
   "cell_type": "code",
   "execution_count": 224,
   "id": "2b9316cc-c8d6-4c98-b051-61ac353f344d",
   "metadata": {},
   "outputs": [
    {
     "name": "stdout",
     "output_type": "stream",
     "text": [
      "Score para engine_hp es 0.9144389804593687\n",
      "Score para engine_cylinders es 0.7639326424906352\n",
      "Score para year es 0.6892200261072089\n",
      "Score para city_mpg es 0.6712672880115116\n",
      "Score para highway_mpg es 0.6328017994244858\n"
     ]
    }
   ],
   "source": [
    "l = []\n",
    "for s in numerical_features:\n",
    "    sc=roc_auc_score(y_train,df_train[s].values)\n",
    "    if sc<0.5:\n",
    "        sc = roc_auc_score(-y_train,df_train[s].values)\n",
    "    l.append((sc,s))\n",
    "\n",
    "l.sort(reverse=True)\n",
    "for s in l:\n",
    "    print(f'Score para {s[1]} es {s[0]}')"
   ]
  },
  {
   "cell_type": "markdown",
   "id": "7dbbce91-db69-4373-b5d2-8b23098dde92",
   "metadata": {},
   "source": [
    "## Q1 ENGINE_HP has the highest AUC"
   ]
  },
  {
   "cell_type": "code",
   "execution_count": 225,
   "id": "c6a7b353-0420-42dd-afd1-65a4a18b0ef7",
   "metadata": {},
   "outputs": [],
   "source": [
    "from sklearn.feature_extraction import DictVectorizer"
   ]
  },
  {
   "cell_type": "code",
   "execution_count": 226,
   "id": "00771202-9f1a-4a82-85e1-ed1ba235d080",
   "metadata": {},
   "outputs": [],
   "source": [
    "dict_train = df_train.to_dict(orient='records')\n",
    "dict_full_train = df_full_train.to_dict(orient='records')\n",
    "dict_val = df_val.to_dict(orient='records')\n",
    "dict_test = df_test.to_dict(orient='records')\n",
    "\n",
    "dv = DictVectorizer(sparse=False)\n",
    "\n",
    "X_train = dv.fit_transform(dict_train)\n",
    "X_val = dv.transform(dict_val)\n",
    "X_full_train = dv.transform(dict_full_train)\n",
    "X_test = dv.transform(dict_test)"
   ]
  },
  {
   "cell_type": "code",
   "execution_count": 227,
   "id": "1600e4d0-eda3-40f2-9cb0-bacfc4728ca5",
   "metadata": {},
   "outputs": [],
   "source": [
    "from sklearn.linear_model import LogisticRegression"
   ]
  },
  {
   "cell_type": "code",
   "execution_count": 228,
   "id": "2b5d08aa-5b25-46fb-9f2f-319adeb9b218",
   "metadata": {},
   "outputs": [],
   "source": [
    "model = LogisticRegression(solver='liblinear', C=1.0, max_iter=1000)"
   ]
  },
  {
   "cell_type": "code",
   "execution_count": 229,
   "id": "0bb5a64a-fc1d-4365-a1ff-830e512e3e1a",
   "metadata": {},
   "outputs": [
    {
     "data": {
      "text/html": [
       "<style>#sk-container-id-3 {color: black;}#sk-container-id-3 pre{padding: 0;}#sk-container-id-3 div.sk-toggleable {background-color: white;}#sk-container-id-3 label.sk-toggleable__label {cursor: pointer;display: block;width: 100%;margin-bottom: 0;padding: 0.3em;box-sizing: border-box;text-align: center;}#sk-container-id-3 label.sk-toggleable__label-arrow:before {content: \"▸\";float: left;margin-right: 0.25em;color: #696969;}#sk-container-id-3 label.sk-toggleable__label-arrow:hover:before {color: black;}#sk-container-id-3 div.sk-estimator:hover label.sk-toggleable__label-arrow:before {color: black;}#sk-container-id-3 div.sk-toggleable__content {max-height: 0;max-width: 0;overflow: hidden;text-align: left;background-color: #f0f8ff;}#sk-container-id-3 div.sk-toggleable__content pre {margin: 0.2em;color: black;border-radius: 0.25em;background-color: #f0f8ff;}#sk-container-id-3 input.sk-toggleable__control:checked~div.sk-toggleable__content {max-height: 200px;max-width: 100%;overflow: auto;}#sk-container-id-3 input.sk-toggleable__control:checked~label.sk-toggleable__label-arrow:before {content: \"▾\";}#sk-container-id-3 div.sk-estimator input.sk-toggleable__control:checked~label.sk-toggleable__label {background-color: #d4ebff;}#sk-container-id-3 div.sk-label input.sk-toggleable__control:checked~label.sk-toggleable__label {background-color: #d4ebff;}#sk-container-id-3 input.sk-hidden--visually {border: 0;clip: rect(1px 1px 1px 1px);clip: rect(1px, 1px, 1px, 1px);height: 1px;margin: -1px;overflow: hidden;padding: 0;position: absolute;width: 1px;}#sk-container-id-3 div.sk-estimator {font-family: monospace;background-color: #f0f8ff;border: 1px dotted black;border-radius: 0.25em;box-sizing: border-box;margin-bottom: 0.5em;}#sk-container-id-3 div.sk-estimator:hover {background-color: #d4ebff;}#sk-container-id-3 div.sk-parallel-item::after {content: \"\";width: 100%;border-bottom: 1px solid gray;flex-grow: 1;}#sk-container-id-3 div.sk-label:hover label.sk-toggleable__label {background-color: #d4ebff;}#sk-container-id-3 div.sk-serial::before {content: \"\";position: absolute;border-left: 1px solid gray;box-sizing: border-box;top: 0;bottom: 0;left: 50%;z-index: 0;}#sk-container-id-3 div.sk-serial {display: flex;flex-direction: column;align-items: center;background-color: white;padding-right: 0.2em;padding-left: 0.2em;position: relative;}#sk-container-id-3 div.sk-item {position: relative;z-index: 1;}#sk-container-id-3 div.sk-parallel {display: flex;align-items: stretch;justify-content: center;background-color: white;position: relative;}#sk-container-id-3 div.sk-item::before, #sk-container-id-3 div.sk-parallel-item::before {content: \"\";position: absolute;border-left: 1px solid gray;box-sizing: border-box;top: 0;bottom: 0;left: 50%;z-index: -1;}#sk-container-id-3 div.sk-parallel-item {display: flex;flex-direction: column;z-index: 1;position: relative;background-color: white;}#sk-container-id-3 div.sk-parallel-item:first-child::after {align-self: flex-end;width: 50%;}#sk-container-id-3 div.sk-parallel-item:last-child::after {align-self: flex-start;width: 50%;}#sk-container-id-3 div.sk-parallel-item:only-child::after {width: 0;}#sk-container-id-3 div.sk-dashed-wrapped {border: 1px dashed gray;margin: 0 0.4em 0.5em 0.4em;box-sizing: border-box;padding-bottom: 0.4em;background-color: white;}#sk-container-id-3 div.sk-label label {font-family: monospace;font-weight: bold;display: inline-block;line-height: 1.2em;}#sk-container-id-3 div.sk-label-container {text-align: center;}#sk-container-id-3 div.sk-container {/* jupyter's `normalize.less` sets `[hidden] { display: none; }` but bootstrap.min.css set `[hidden] { display: none !important; }` so we also need the `!important` here to be able to override the default hidden behavior on the sphinx rendered scikit-learn.org. See: https://github.com/scikit-learn/scikit-learn/issues/21755 */display: inline-block !important;position: relative;}#sk-container-id-3 div.sk-text-repr-fallback {display: none;}</style><div id=\"sk-container-id-3\" class=\"sk-top-container\"><div class=\"sk-text-repr-fallback\"><pre>LogisticRegression(max_iter=1000, solver=&#x27;liblinear&#x27;)</pre><b>In a Jupyter environment, please rerun this cell to show the HTML representation or trust the notebook. <br />On GitHub, the HTML representation is unable to render, please try loading this page with nbviewer.org.</b></div><div class=\"sk-container\" hidden><div class=\"sk-item\"><div class=\"sk-estimator sk-toggleable\"><input class=\"sk-toggleable__control sk-hidden--visually\" id=\"sk-estimator-id-3\" type=\"checkbox\" checked><label for=\"sk-estimator-id-3\" class=\"sk-toggleable__label sk-toggleable__label-arrow\">LogisticRegression</label><div class=\"sk-toggleable__content\"><pre>LogisticRegression(max_iter=1000, solver=&#x27;liblinear&#x27;)</pre></div></div></div></div></div>"
      ],
      "text/plain": [
       "LogisticRegression(max_iter=1000, solver='liblinear')"
      ]
     },
     "execution_count": 229,
     "metadata": {},
     "output_type": "execute_result"
    }
   ],
   "source": [
    "model.fit(X_train,y_train)"
   ]
  },
  {
   "cell_type": "code",
   "execution_count": 230,
   "id": "f33c260c-8f14-421c-aaa8-290444e75ffb",
   "metadata": {},
   "outputs": [],
   "source": [
    "y_pred = model.predict_proba(X_val)[:,1]"
   ]
  },
  {
   "cell_type": "code",
   "execution_count": 231,
   "id": "63dfa502-e979-493b-b097-12c0b861ca46",
   "metadata": {},
   "outputs": [],
   "source": [
    "from sklearn.metrics import roc_curve"
   ]
  },
  {
   "cell_type": "code",
   "execution_count": 232,
   "id": "22827608-1c1d-4841-8128-8fa2f216d10c",
   "metadata": {},
   "outputs": [],
   "source": [
    "fpr, tpr, threshold = roc_curve(y_val,y_pred)"
   ]
  },
  {
   "cell_type": "code",
   "execution_count": 233,
   "id": "5ec2ee8f-e70c-411f-8c36-0f72c73beb7a",
   "metadata": {},
   "outputs": [
    {
     "data": {
      "text/plain": [
       "0.9755064432652847"
      ]
     },
     "execution_count": 233,
     "metadata": {},
     "output_type": "execute_result"
    }
   ],
   "source": [
    "auc(fpr,tpr)"
   ]
  },
  {
   "cell_type": "code",
   "execution_count": 234,
   "id": "3226e7e6-80b6-4cd6-a979-9d3f3c0f5cd5",
   "metadata": {},
   "outputs": [
    {
     "data": {
      "text/plain": [
       "0.9755064432652847"
      ]
     },
     "execution_count": 234,
     "metadata": {},
     "output_type": "execute_result"
    }
   ],
   "source": [
    "roc_auc_score(y_val,y_pred)"
   ]
  },
  {
   "cell_type": "markdown",
   "id": "c41fa6bd-1a1f-4c66-bcbb-c27f0810dbba",
   "metadata": {},
   "source": [
    "## Q2. What is the AUC of this model on the validation dataset? 0.975"
   ]
  },
  {
   "cell_type": "code",
   "execution_count": 237,
   "id": "01c1950f-3e92-459d-b0bb-8615b53618d7",
   "metadata": {},
   "outputs": [],
   "source": [
    "thresholds = np.arange(0.0,1.0,0.01)"
   ]
  },
  {
   "cell_type": "code",
   "execution_count": 238,
   "id": "a88d90c2-db2e-4663-8d1f-d7f6489b9d97",
   "metadata": {},
   "outputs": [
    {
     "data": {
      "text/plain": [
       "array([0.  , 0.01, 0.02, 0.03, 0.04, 0.05, 0.06, 0.07, 0.08, 0.09, 0.1 ,\n",
       "       0.11, 0.12, 0.13, 0.14, 0.15, 0.16, 0.17, 0.18, 0.19, 0.2 , 0.21,\n",
       "       0.22, 0.23, 0.24, 0.25, 0.26, 0.27, 0.28, 0.29, 0.3 , 0.31, 0.32,\n",
       "       0.33, 0.34, 0.35, 0.36, 0.37, 0.38, 0.39, 0.4 , 0.41, 0.42, 0.43,\n",
       "       0.44, 0.45, 0.46, 0.47, 0.48, 0.49, 0.5 , 0.51, 0.52, 0.53, 0.54,\n",
       "       0.55, 0.56, 0.57, 0.58, 0.59, 0.6 , 0.61, 0.62, 0.63, 0.64, 0.65,\n",
       "       0.66, 0.67, 0.68, 0.69, 0.7 , 0.71, 0.72, 0.73, 0.74, 0.75, 0.76,\n",
       "       0.77, 0.78, 0.79, 0.8 , 0.81, 0.82, 0.83, 0.84, 0.85, 0.86, 0.87,\n",
       "       0.88, 0.89, 0.9 , 0.91, 0.92, 0.93, 0.94, 0.95, 0.96, 0.97, 0.98,\n",
       "       0.99])"
      ]
     },
     "execution_count": 238,
     "metadata": {},
     "output_type": "execute_result"
    }
   ],
   "source": [
    "thresholds"
   ]
  },
  {
   "cell_type": "code",
   "execution_count": 270,
   "id": "f33a674b-69c2-46fd-b092-c7b65fcd2e1e",
   "metadata": {},
   "outputs": [],
   "source": [
    "precision = []\n",
    "recall= []\n",
    "f1=[]\n",
    "actual_positive = y_val==True\n",
    "actual_negative = y_val==False\n",
    "\n",
    "for t in thresholds:\n",
    "    pred_positive = y_pred>=t\n",
    "    pred_negative = np.logical_not(pred_positive)\n",
    "    true_positive = pred_positive & actual_positive\n",
    "    true_negative = pred_negative & actual_negative\n",
    "    false_positive = pred_positive & actual_negative\n",
    "    false_negative = pred_negative & actual_positive\n",
    "    precision_=true_positive.sum()/(true_positive.sum()+false_positive.sum())\n",
    "    precision.append(precision_)\n",
    "    recall_=true_positive.sum()/(true_positive.sum()+false_negative.sum())\n",
    "    recall.append(recall_)\n",
    "    f1.append(2*precision_*recall_/(precision_+recall_))"
   ]
  },
  {
   "cell_type": "code",
   "execution_count": 271,
   "id": "34ffff4d-734e-44a3-baf5-1c5e6f28b21a",
   "metadata": {},
   "outputs": [],
   "source": [
    "import matplotlib.pyplot as plt"
   ]
  },
  {
   "cell_type": "code",
   "execution_count": 272,
   "id": "dc7a1fde-1b04-4fcb-9038-46e35fddfc73",
   "metadata": {},
   "outputs": [
    {
     "data": {
      "image/png": "[encoded data removed]",
      "text/plain": [
       "<Figure size 640x480 with 1 Axes>"
      ]
     },
     "metadata": {},
     "output_type": "display_data"
    }
   ],
   "source": [
    "plt.plot(thresholds,precision,label='precision')\n",
    "plt.plot(thresholds,recall,label='recall')\n",
    "plt.plot(thresholds,f1,label='F1-score')\n",
    "plt.legend()\n",
    "plt.show()"
   ]
  },
  {
   "cell_type": "code",
   "execution_count": 273,
   "id": "5aab5c74-9e79-4160-9be3-f724dc087274",
   "metadata": {},
   "outputs": [
    {
     "name": "stdout",
     "output_type": "stream",
     "text": [
      "0.44\n"
     ]
    }
   ],
   "source": [
    "min_distance=99999\n",
    "for i,j,k in zip(precision,recall,thresholds):\n",
    "    if (abs(i-j)<min_distance):\n",
    "        min_t = k;\n",
    "        min_distance=abs(i-j)\n",
    "print(min_t)"
   ]
  },
  {
   "cell_type": "markdown",
   "id": "86f1ccc2-cb57-495a-bc5c-510a2a2c4790",
   "metadata": {},
   "source": [
    "## Q3. Precison and recall: At which threshold precision and recall curves intersect? 0.48"
   ]
  },
  {
   "cell_type": "code",
   "execution_count": 274,
   "id": "68e55f99-88c5-4684-a58b-849911cbb215",
   "metadata": {},
   "outputs": [
    {
     "name": "stdout",
     "output_type": "stream",
     "text": [
      "0.47000000000000003\n"
     ]
    }
   ],
   "source": [
    "max_f1=-1\n",
    "for i, t in zip(f1,thresholds):\n",
    "    if i>max_f1:\n",
    "        max_t=t\n",
    "        max_f1=i\n",
    "print(max_t)"
   ]
  },
  {
   "cell_type": "markdown",
   "id": "36e56c94-794e-471a-9a95-8735851b5ce1",
   "metadata": {},
   "source": [
    "## Q4. At which threshold F1 is maximal? 0.47"
   ]
  },
  {
   "cell_type": "code",
   "execution_count": 275,
   "id": "26e0f4ad-5e08-49fe-8948-c792c4bbcbac",
   "metadata": {},
   "outputs": [],
   "source": [
    "from sklearn.model_selection import KFold"
   ]
  },
  {
   "cell_type": "code",
   "execution_count": 303,
   "id": "d0baa7ff-cba8-499d-8612-2a7fe14897e4",
   "metadata": {},
   "outputs": [
    {
     "data": {
      "text/html": [
       "<div>\n",
       "<style scoped>\n",
       "    .dataframe tbody tr th:only-of-type {\n",
       "        vertical-align: middle;\n",
       "    }\n",
       "\n",
       "    .dataframe tbody tr th {\n",
       "        vertical-align: top;\n",
       "    }\n",
       "\n",
       "    .dataframe thead th {\n",
       "        text-align: right;\n",
       "    }\n",
       "</style>\n",
       "<table border=\"1\" class=\"dataframe\">\n",
       "  <thead>\n",
       "    <tr style=\"text-align: right;\">\n",
       "      <th></th>\n",
       "      <th>4239</th>\n",
       "      <th>6937</th>\n",
       "      <th>1712</th>\n",
       "      <th>11742</th>\n",
       "      <th>6651</th>\n",
       "    </tr>\n",
       "  </thead>\n",
       "  <tbody>\n",
       "    <tr>\n",
       "      <th>make</th>\n",
       "      <td>Suzuki</td>\n",
       "      <td>Tesla</td>\n",
       "      <td>Mazda</td>\n",
       "      <td>Cadillac</td>\n",
       "      <td>Chevrolet</td>\n",
       "    </tr>\n",
       "    <tr>\n",
       "      <th>model</th>\n",
       "      <td>Esteem</td>\n",
       "      <td>Model S</td>\n",
       "      <td>B-Series Pickup</td>\n",
       "      <td>XT5</td>\n",
       "      <td>Malibu Classic</td>\n",
       "    </tr>\n",
       "    <tr>\n",
       "      <th>year</th>\n",
       "      <td>2001</td>\n",
       "      <td>2016</td>\n",
       "      <td>2000</td>\n",
       "      <td>2017</td>\n",
       "      <td>2008</td>\n",
       "    </tr>\n",
       "    <tr>\n",
       "      <th>engine_hp</th>\n",
       "      <td>122.0</td>\n",
       "      <td>0.0</td>\n",
       "      <td>143.0</td>\n",
       "      <td>310.0</td>\n",
       "      <td>145.0</td>\n",
       "    </tr>\n",
       "    <tr>\n",
       "      <th>engine_cylinders</th>\n",
       "      <td>4.0</td>\n",
       "      <td>0.0</td>\n",
       "      <td>6.0</td>\n",
       "      <td>6.0</td>\n",
       "      <td>4.0</td>\n",
       "    </tr>\n",
       "    <tr>\n",
       "      <th>transmission_type</th>\n",
       "      <td>MANUAL</td>\n",
       "      <td>DIRECT_DRIVE</td>\n",
       "      <td>MANUAL</td>\n",
       "      <td>AUTOMATIC</td>\n",
       "      <td>AUTOMATIC</td>\n",
       "    </tr>\n",
       "    <tr>\n",
       "      <th>vehicle_style</th>\n",
       "      <td>Wagon</td>\n",
       "      <td>Sedan</td>\n",
       "      <td>Extended Cab Pickup</td>\n",
       "      <td>4dr SUV</td>\n",
       "      <td>Sedan</td>\n",
       "    </tr>\n",
       "    <tr>\n",
       "      <th>highway_mpg</th>\n",
       "      <td>32</td>\n",
       "      <td>100</td>\n",
       "      <td>21</td>\n",
       "      <td>27</td>\n",
       "      <td>30</td>\n",
       "    </tr>\n",
       "    <tr>\n",
       "      <th>city_mpg</th>\n",
       "      <td>24</td>\n",
       "      <td>91</td>\n",
       "      <td>16</td>\n",
       "      <td>19</td>\n",
       "      <td>22</td>\n",
       "    </tr>\n",
       "    <tr>\n",
       "      <th>above_average</th>\n",
       "      <td>0</td>\n",
       "      <td>1</td>\n",
       "      <td>0</td>\n",
       "      <td>1</td>\n",
       "      <td>0</td>\n",
       "    </tr>\n",
       "  </tbody>\n",
       "</table>\n",
       "</div>"
      ],
      "text/plain": [
       "                    4239          6937                 1712       11742  \\\n",
       "make               Suzuki         Tesla                Mazda   Cadillac   \n",
       "model              Esteem       Model S      B-Series Pickup        XT5   \n",
       "year                 2001          2016                 2000       2017   \n",
       "engine_hp           122.0           0.0                143.0      310.0   \n",
       "engine_cylinders      4.0           0.0                  6.0        6.0   \n",
       "transmission_type  MANUAL  DIRECT_DRIVE               MANUAL  AUTOMATIC   \n",
       "vehicle_style       Wagon         Sedan  Extended Cab Pickup    4dr SUV   \n",
       "highway_mpg            32           100                   21         27   \n",
       "city_mpg               24            91                   16         19   \n",
       "above_average           0             1                    0          1   \n",
       "\n",
       "                            6651   \n",
       "make                    Chevrolet  \n",
       "model              Malibu Classic  \n",
       "year                         2008  \n",
       "engine_hp                   145.0  \n",
       "engine_cylinders              4.0  \n",
       "transmission_type       AUTOMATIC  \n",
       "vehicle_style               Sedan  \n",
       "highway_mpg                    30  \n",
       "city_mpg                       22  \n",
       "above_average                   0  "
      ]
     },
     "execution_count": 303,
     "metadata": {},
     "output_type": "execute_result"
    }
   ],
   "source": [
    "df_full_train.head().T"
   ]
  },
  {
   "cell_type": "code",
   "execution_count": 276,
   "id": "2c0a6e1d-80ab-45ec-80f9-5d3631313c34",
   "metadata": {},
   "outputs": [],
   "source": [
    "kf = KFold(n_splits=5, shuffle=True, random_state=1)"
   ]
  },
  {
   "cell_type": "code",
   "execution_count": 309,
   "id": "1ced255e-59a0-43f3-b3e0-5a27b7a34615",
   "metadata": {},
   "outputs": [
    {
     "data": {
      "text/plain": [
       "0.0036775442543047604"
      ]
     },
     "execution_count": 309,
     "metadata": {},
     "output_type": "execute_result"
    }
   ],
   "source": [
    "scores = []\n",
    "for train_idx, val_idx in kf.split(df_full_train):\n",
    "    y_train = df_full_train.iloc[train_idx][target].values\n",
    "    y_val = df_full_train.iloc[val_idx][target].values\n",
    "    df_full_train_temp = df_full_train[features]\n",
    "    dict_train = df_full_train_temp.iloc[train_idx].to_dict(orient='records')\n",
    "    dict_val = df_full_train_temp.iloc[val_idx].to_dict(orient='records')\n",
    "    X_train = dv.transform(dict_train)\n",
    "    X_val = dv.transform(dict_val)\n",
    "    model.fit(X_train,y_train)\n",
    "    y_pred=model.predict_proba(X_val)[:,1]\n",
    "    scores.append(roc_auc_score(y_val,y_pred))\n",
    "np.std(scores)"
   ]
  },
  {
   "cell_type": "markdown",
   "id": "6728b791-1534-46ba-ad91-13b9b0e360ee",
   "metadata": {},
   "source": [
    "## Q5. How large is standard deivation of the scores (ROC AUC) across different folds? 0.0036"
   ]
  },
  {
   "cell_type": "code",
   "execution_count": 318,
   "id": "7e23cef3-0a02-46dd-b98c-f0de725cbb41",
   "metadata": {},
   "outputs": [
    {
     "name": "stdout",
     "output_type": "stream",
     "text": [
      "Collecting tqdm\n",
      "  Obtaining dependency information for tqdm from https://files.pythonhosted.org/packages/00/e5/f12a80907d0884e6dff9c16d0c0114d81b8cd07dc3ae54c5e962cc83037e/tqdm-4.66.1-py3-none-any.whl.metadata\n",
      "  Using cached tqdm-4.66.1-py3-none-any.whl.metadata (57 kB)\n",
      "Using cached tqdm-4.66.1-py3-none-any.whl (78 kB)\n",
      "Installing collected packages: tqdm\n",
      "Successfully installed tqdm-4.66.1\n"
     ]
    }
   ],
   "source": [
    "!pip install tqdm"
   ]
  },
  {
   "cell_type": "code",
   "execution_count": 319,
   "id": "00db6a82-0517-4a6e-89eb-545fd887dd96",
   "metadata": {},
   "outputs": [
    {
     "name": "stderr",
     "output_type": "stream",
     "text": [
      "/home/paul/anaconda3/envs/ml-zoomcamp/lib/python3.9/site-packages/tqdm/auto.py:21: TqdmWarning: IProgress not found. Please update jupyter and ipywidgets. See https://ipywidgets.readthedocs.io/en/stable/user_install.html\n",
      "  from .autonotebook import tqdm as notebook_tqdm\n"
     ]
    }
   ],
   "source": [
    "from tqdm.auto import tqdm"
   ]
  },
  {
   "cell_type": "code",
   "execution_count": 323,
   "id": "a91193e8-5778-44fc-8f7f-c4556e2a8750",
   "metadata": {},
   "outputs": [
    {
     "name": "stdout",
     "output_type": "stream",
     "text": [
      "mean,std,c\n",
      "(0.979, 0.003, 10)\n",
      "(0.978, 0.005, 0.5)\n",
      "(0.97, 0.005, 0.1)\n",
      "(0.951, 0.007, 0.01)\n"
     ]
    }
   ],
   "source": [
    "l=[]\n",
    "for c in [0.01,0.1,0.5,10]:\n",
    "    scores = []\n",
    "    model = LogisticRegression(solver='liblinear', C=c, max_iter=1000)\n",
    "    for train_idx, val_idx in kf.split(df_full_train):\n",
    "        y_train = df_full_train.iloc[train_idx][target].values\n",
    "        y_val = df_full_train.iloc[val_idx][target].values\n",
    "        df_full_train_temp = df_full_train[features]\n",
    "        dict_train = df_full_train_temp.iloc[train_idx].to_dict(orient='records')\n",
    "        dict_val = df_full_train_temp.iloc[val_idx].to_dict(orient='records')\n",
    "        X_train = dv.transform(dict_train)\n",
    "        X_val = dv.transform(dict_val)\n",
    "        model.fit(X_train,y_train)\n",
    "        y_pred=model.predict_proba(X_val)[:,1]\n",
    "        scores.append(roc_auc_score(y_val,y_pred))\n",
    "    l.append((np.mean(scores).round(3),np.std(scores).round(3),c))\n",
    "l.sort(reverse=True)\n",
    "\n",
    "print(\"mean,std,c\")\n",
    "for el in l:\n",
    "    print(el)"
   ]
  },
  {
   "cell_type": "markdown",
   "id": "5aaea949-cbe0-453f-94f6-5bda30365539",
   "metadata": {},
   "source": [
    "## Which c leads to the best mean score? 10"
   ]
  },
  {
   "cell_type": "code",
   "execution_count": null,
   "id": "48476e84-72a7-4e9f-b177-f769e3b3892d",
   "metadata": {},
   "outputs": [],
   "source": []
  }
 ],
 "metadata": {
  "kernelspec": {
   "display_name": "Python 3 (ipykernel)",
   "language": "python",
   "name": "python3"
  },
  "language_info": {
   "codemirror_mode": {
    "name": "ipython",
    "version": 3
   },
   "file_extension": ".py",
   "mimetype": "text/x-python",
   "name": "python",
   "nbconvert_exporter": "python",
   "pygments_lexer": "ipython3",
   "version": "3.9.18"
  }
 },
 "nbformat": 4,
 "nbformat_minor": 5
}
