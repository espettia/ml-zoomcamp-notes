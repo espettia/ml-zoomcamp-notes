{
 "cells": [
  {
   "cell_type": "code",
   "execution_count": 1,
   "id": "590104f7",
   "metadata": {},
   "outputs": [],
   "source": [
    "import numpy as np\n",
    "import pandas as pd\n",
    "import seaborn as sns"
   ]
  },
  {
   "cell_type": "code",
   "execution_count": 2,
   "id": "59565343",
   "metadata": {},
   "outputs": [],
   "source": [
    "df = pd.read_csv('housing.csv')"
   ]
  },
  {
   "cell_type": "code",
   "execution_count": 3,
   "id": "64ce150f",
   "metadata": {},
   "outputs": [
    {
     "data": {
      "text/plain": [
       "array(['NEAR BAY', '<1H OCEAN', 'INLAND', 'NEAR OCEAN', 'ISLAND'],\n",
       "      dtype=object)"
      ]
     },
     "execution_count": 3,
     "metadata": {},
     "output_type": "execute_result"
    }
   ],
   "source": [
    "df.ocean_proximity.unique()"
   ]
  },
  {
   "cell_type": "code",
   "execution_count": 4,
   "id": "f819a8d8",
   "metadata": {},
   "outputs": [],
   "source": [
    "df = df[(df.ocean_proximity == '<1H OCEAN') | (df.ocean_proximity == 'INLAND')]"
   ]
  },
  {
   "cell_type": "code",
   "execution_count": 5,
   "id": "449b03ec",
   "metadata": {},
   "outputs": [],
   "source": [
    "features = ['latitude',\n",
    "            'longitude',\n",
    "            'housing_median_age',\n",
    "            'total_rooms',\n",
    "            'total_bedrooms',\n",
    "            'population',\n",
    "            'households',\n",
    "            'median_income'\n",
    "            ]"
   ]
  },
  {
   "cell_type": "code",
   "execution_count": 6,
   "id": "9b8346a5",
   "metadata": {},
   "outputs": [
    {
     "data": {
      "text/plain": [
       "longitude               0\n",
       "latitude                0\n",
       "housing_median_age      0\n",
       "total_rooms             0\n",
       "total_bedrooms        157\n",
       "population              0\n",
       "households              0\n",
       "median_income           0\n",
       "median_house_value      0\n",
       "ocean_proximity         0\n",
       "dtype: int64"
      ]
     },
     "execution_count": 6,
     "metadata": {},
     "output_type": "execute_result"
    }
   ],
   "source": [
    "df.isnull().sum()"
   ]
  },
  {
   "cell_type": "code",
   "execution_count": 7,
   "id": "a4ecc42e",
   "metadata": {},
   "outputs": [
    {
     "data": {
      "text/plain": [
       "1195.0"
      ]
     },
     "execution_count": 7,
     "metadata": {},
     "output_type": "execute_result"
    }
   ],
   "source": [
    "df.population.median()"
   ]
  },
  {
   "cell_type": "code",
   "execution_count": 8,
   "id": "63f2a2fc",
   "metadata": {},
   "outputs": [
    {
     "data": {
      "text/plain": [
       "<Axes: xlabel='median_house_value', ylabel='Count'>"
      ]
     },
     "execution_count": 8,
     "metadata": {},
     "output_type": "execute_result"
    },
    {
     "data": {
      "image/png": "[encoded data removed]",
      "text/plain": [
       "<Figure size 640x480 with 1 Axes>"
      ]
     },
     "metadata": {},
     "output_type": "display_data"
    }
   ],
   "source": [
    "sns.histplot(df.median_house_value, bins=50 )"
   ]
  },
  {
   "cell_type": "code",
   "execution_count": 9,
   "id": "24e9833f",
   "metadata": {},
   "outputs": [
    {
     "data": {
      "text/plain": [
       "(9413, 3137, 3137)"
      ]
     },
     "execution_count": 9,
     "metadata": {},
     "output_type": "execute_result"
    }
   ],
   "source": [
    "n = len(df)\n",
    "nval = ntest = int(n*0.2)\n",
    "ntrain = n-nval-ntest\n",
    "ntrain,nval,ntest"
   ]
  },
  {
   "cell_type": "code",
   "execution_count": 10,
   "id": "bfbe067b",
   "metadata": {},
   "outputs": [],
   "source": [
    "idx = np.arange(n)\n",
    "np.random.seed(42)\n",
    "np.random.shuffle(idx)\n",
    "\n",
    "df_train = df.iloc[idx[:ntrain]]\n",
    "df_val = df.iloc[idx[ntrain:ntrain+nval]]\n",
    "df_test = df.iloc[idx[ntrain+nval:]]\n",
    "\n",
    "df_train.reset_index(drop=True)\n",
    "df_val.reset_index(drop=True)\n",
    "df_test.reset_index(drop=True)\n",
    "\n",
    "y_train = np.log1p(df_train.median_house_value.values)\n",
    "y_val = np.log1p(df_val.median_house_value.values)\n",
    "y_test = np.log1p(df_test.median_house_value.values)\n",
    "\n",
    "del df_train['median_house_value']\n",
    "del df_val['median_house_value']\n",
    "del df_test['median_house_value']"
   ]
  },
  {
   "cell_type": "code",
   "execution_count": 11,
   "id": "f2a3c694",
   "metadata": {},
   "outputs": [],
   "source": [
    "def rmse(y_pred, y_target):\n",
    "    return np.sqrt(((y_pred-y_target)**2).mean())"
   ]
  },
  {
   "cell_type": "code",
   "execution_count": 12,
   "id": "dc174b64",
   "metadata": {},
   "outputs": [],
   "source": [
    "def train_linear_regression(X, y):\n",
    "    ones = np.ones(X.shape[0])\n",
    "    X = np.c_[ones,X]\n",
    "    XTX = X.T.dot(X)\n",
    "    XTXinv = np.linalg.inv(XTX)\n",
    "    w_full = XTXinv.dot(X.T).dot(y)\n",
    "    return w_full[0], w_full[1:]"
   ]
  },
  {
   "cell_type": "code",
   "execution_count": 13,
   "id": "599a2aa7",
   "metadata": {},
   "outputs": [],
   "source": [
    "def prepare_X_mean(X):\n",
    "    return X[features].fillna(mean).values"
   ]
  },
  {
   "cell_type": "code",
   "execution_count": 14,
   "id": "c83a1f12",
   "metadata": {},
   "outputs": [],
   "source": [
    "mean = df_train.total_bedrooms.mean()"
   ]
  },
  {
   "cell_type": "code",
   "execution_count": 15,
   "id": "284c911f",
   "metadata": {},
   "outputs": [
    {
     "name": "stdout",
     "output_type": "stream",
     "text": [
      "0.3405699801454488\n"
     ]
    }
   ],
   "source": [
    "X_train = prepare_X_mean(df_train)\n",
    "w0, w = train_linear_regression(X_train,y_train)\n",
    "X_val = prepare_X_mean(df_val)\n",
    "y_pred = X_val.dot(w)+w0\n",
    "print(rmse(y_val,y_pred))"
   ]
  },
  {
   "cell_type": "code",
   "execution_count": 16,
   "id": "1e383afd",
   "metadata": {},
   "outputs": [],
   "source": [
    "def prepare_X_null(X):\n",
    "    return X[features].fillna(0).values"
   ]
  },
  {
   "cell_type": "code",
   "execution_count": 21,
   "id": "d2f22dcb",
   "metadata": {},
   "outputs": [
    {
     "name": "stdout",
     "output_type": "stream",
     "text": [
      "0.3408479034190544\n"
     ]
    }
   ],
   "source": [
    "X_train = prepare_X_null(df_train)\n",
    "w0, w = train_linear_regression(X_train,y_train)\n",
    "X_val = prepare_X_null(df_val)\n",
    "y_pred = X_val.dot(w)+w0\n",
    "print(rmse(y_val,y_pred))"
   ]
  },
  {
   "cell_type": "code",
   "execution_count": 24,
   "id": "f8dd2e9e",
   "metadata": {},
   "outputs": [],
   "source": [
    "def train_linear_regression_reg(X, y, r):\n",
    "    ones = np.ones(X.shape[0])\n",
    "    X = np.c_[ones,X]\n",
    "    XTX = X.T.dot(X)\n",
    "    XTX = XTX + r * np.eye(XTX.shape[0])\n",
    "    XTXinv = np.linalg.inv(XTX)\n",
    "    w_full = XTXinv.dot(X.T).dot(y)\n",
    "    return w_full[0], w_full[1:]"
   ]
  },
  {
   "cell_type": "code",
   "execution_count": 31,
   "id": "8c57d51f",
   "metadata": {},
   "outputs": [
    {
     "name": "stdout",
     "output_type": "stream",
     "text": [
      "0.3408479034190544\n",
      "0.3408479061858585\n",
      "0.3408481800541537\n",
      "0.3408506921869027\n",
      "0.3408779300441085\n",
      "0.3412862042015464\n",
      "0.34489583276618196\n",
      "0.3477398070484238\n",
      "0.34831498335209427\n",
      "0\n"
     ]
    }
   ],
   "source": [
    "X_train = prepare_X_null(df_train)\n",
    "X_val = prepare_X_null(df_val)\n",
    "smallest_s = 1000\n",
    "for r in [0, 0.000001, 0.0001, 0.001, 0.01, 0.1, 1, 5, 10]:\n",
    "    w0, w = train_linear_regression_reg(X_train,y_train,r)\n",
    "    y_pred = X_val.dot(w)+w0\n",
    "    score = rmse(y_val,y_pred)\n",
    "    smallest_s = r if score < smallest_s else smallest_s\n",
    "    print(score)\n",
    "print(smallest_s)"
   ]
  },
  {
   "cell_type": "markdown",
   "id": "3457bf5d",
   "metadata": {},
   "source": [
    "### Q3"
   ]
  },
  {
   "cell_type": "code",
   "execution_count": 36,
   "id": "abd2774b",
   "metadata": {},
   "outputs": [
    {
     "name": "stdout",
     "output_type": "stream",
     "text": [
      "[0.3377387160116084, 0.33779993536514896, 0.338428700676665, 0.3320049468304345, 0.3394451862557017, 0.34338197052856695, 0.3385330211771872, 0.34687476973041953, 0.3512736865959646, 0.3341558266526926]\n",
      "0.01\n"
     ]
    }
   ],
   "source": [
    "scores = []\n",
    "for s in range(10):\n",
    "    idx = np.arange(n)\n",
    "    np.random.seed(s)\n",
    "    np.random.shuffle(idx)\n",
    "\n",
    "    df_train = df.iloc[idx[:ntrain]]\n",
    "    df_val = df.iloc[idx[ntrain:ntrain+nval]]\n",
    "    df_test = df.iloc[idx[ntrain+nval:]]\n",
    "\n",
    "    df_train.reset_index(drop=True)\n",
    "    df_val.reset_index(drop=True)\n",
    "    df_test.reset_index(drop=True)\n",
    "\n",
    "    y_train = np.log1p(df_train.median_house_value.values)\n",
    "    y_val = np.log1p(df_val.median_house_value.values)\n",
    "    y_test = np.log1p(df_test.median_house_value.values)\n",
    "\n",
    "    del df_train['median_house_value']\n",
    "    del df_val['median_house_value']\n",
    "    del df_test['median_house_value']\n",
    "    \n",
    "    X_train = prepare_X_null(df_train)\n",
    "    w0, w = train_linear_regression(X_train,y_train)\n",
    "    X_val = prepare_X_null(df_val)\n",
    "    y_pred = X_val.dot(w)+w0\n",
    "    scores.append(rmse(y_val,y_pred))\n",
    "    \n",
    "print(scores)    \n",
    "print(round(np.std(scores),2))\n"
   ]
  },
  {
   "cell_type": "code",
   "execution_count": 48,
   "id": "d14c1631",
   "metadata": {},
   "outputs": [
    {
     "name": "stdout",
     "output_type": "stream",
     "text": [
      "0.3349877884546482\n"
     ]
    }
   ],
   "source": [
    "s = 9\n",
    "idx = np.arange(n)\n",
    "np.random.seed(s)\n",
    "np.random.shuffle(idx)\n",
    "\n",
    "df_train = df.iloc[idx[:ntrain]]\n",
    "df_val = df.iloc[idx[ntrain:ntrain+nval]]\n",
    "df_test = df.iloc[idx[ntrain+nval:]]\n",
    "\n",
    "df_train.reset_index(drop=True)\n",
    "df_val.reset_index(drop=True)\n",
    "df_test.reset_index(drop=True)\n",
    "\n",
    "y_train = np.log1p(df_train.median_house_value.values)\n",
    "y_val = np.log1p(df_val.median_house_value.values)\n",
    "y_test = np.log1p(df_test.median_house_value.values)\n",
    "\n",
    "del df_train['median_house_value']\n",
    "del df_val['median_house_value']\n",
    "del df_test['median_house_value']\n",
    "\n",
    "df_full = pd.concat([df_train, df_val])\n",
    "y_full = np.r_[y_train, y_val]\n",
    "\n",
    "X_full = prepare_X_null(df_full)\n",
    "w0, w = train_linear_regression(X_full,y_full)\n",
    "\n",
    "X_test = prepare_X_null(df_test)\n",
    "\n",
    "y_pred = X_test.dot(w)+w0\n",
    "print(rmse(y_pred,y_test))"
   ]
  }
 ],
 "metadata": {
  "kernelspec": {
   "display_name": "Python 3 (ipykernel)",
   "language": "python",
   "name": "python3"
  },
  "language_info": {
   "codemirror_mode": {
    "name": "ipython",
    "version": 3
   },
   "file_extension": ".py",
   "mimetype": "text/x-python",
   "name": "python",
   "nbconvert_exporter": "python",
   "pygments_lexer": "ipython3",
   "version": "3.11.4"
  }
 },
 "nbformat": 4,
 "nbformat_minor": 5
}
