{
 "cells": [
  {
   "cell_type": "code",
   "execution_count": 1,
   "id": "d8d7881f-eac5-4583-b65e-e8f93cb54f52",
   "metadata": {},
   "outputs": [
    {
     "name": "stdout",
     "output_type": "stream",
     "text": [
      "--2023-10-23 15:35:00--  https://raw.githubusercontent.com/alexeygrigorev/datasets/master/housing.csv\n",
      "Resolving raw.githubusercontent.com (raw.githubusercontent.com)... 185.199.110.133, 185.199.108.133, 185.199.111.133, ...\n",
      "Connecting to raw.githubusercontent.com (raw.githubusercontent.com)|185.199.110.133|:443... connected.\n",
      "HTTP request sent, awaiting response... 200 OK\n",
      "Length: 1423529 (1,4M) [text/plain]\n",
      "Saving to: ‘housing.csv’\n",
      "\n",
      "housing.csv         100%[===================>]   1,36M   870KB/s    in 1,6s    \n",
      "\n",
      "2023-10-23 15:35:03 (870 KB/s) - ‘housing.csv’ saved [1423529/1423529]\n",
      "\n"
     ]
    }
   ],
   "source": [
    "!wget https://raw.githubusercontent.com/alexeygrigorev/datasets/master/housing.csv"
   ]
  },
  {
   "cell_type": "code",
   "execution_count": 3,
   "id": "957a8fc6-60f3-4e2d-a7b1-84b055db60aa",
   "metadata": {},
   "outputs": [],
   "source": [
    "import numpy as np\n",
    "import pandas as pd"
   ]
  },
  {
   "cell_type": "code",
   "execution_count": 4,
   "id": "d7d27f97-e66d-4f3e-80ed-1050c3bddc9d",
   "metadata": {},
   "outputs": [],
   "source": [
    "df = pd.read_csv('housing.csv')\n",
    "target = 'median_house_value'"
   ]
  },
  {
   "cell_type": "code",
   "execution_count": 5,
   "id": "ead14074-cba4-4bab-b8e3-2e4317facf8a",
   "metadata": {},
   "outputs": [],
   "source": [
    "df = df[np.logical_or(df['ocean_proximity'] == '<1H OCEAN', df['ocean_proximity']=='INLAND')]"
   ]
  },
  {
   "cell_type": "code",
   "execution_count": 6,
   "id": "81cac4ef-cef6-428c-a8de-c5ec90531975",
   "metadata": {},
   "outputs": [],
   "source": [
    "df=df.fillna(0)\n",
    "df.median_house_value = np.log(df.median_house_value.values)"
   ]
  },
  {
   "cell_type": "code",
   "execution_count": 7,
   "id": "34c1bb71-8fa1-4742-84b7-812efe1d925c",
   "metadata": {},
   "outputs": [],
   "source": [
    "from sklearn.model_selection import train_test_split\n",
    "\n",
    "df_full_train, df_test = train_test_split(df,test_size=0.2,random_state=1)\n",
    "df_train, df_val = train_test_split(df_full_train,test_size=0.2/0.8, random_state=1)\n",
    "\n",
    "from sklearn.feature_extraction import DictVectorizer\n",
    "dv = DictVectorizer(sparse=False)\n",
    "\n",
    "dict_full_train = df_full_train.drop(target,axis=1).to_dict(orient='records')\n",
    "dict_test = df_test.drop(target,axis=1).to_dict(orient='records')\n",
    "dict_train = df_train.drop(target,axis=1).to_dict(orient='records')\n",
    "dict_val = df_val.drop(target,axis=1).to_dict(orient='records')\n",
    "\n",
    "X_full_train = dv.fit_transform(dict_full_train)\n",
    "X_test = dv.transform(dict_test)\n",
    "X_train = dv.transform(dict_train)\n",
    "X_val = dv.transform(dict_val)\n",
    "\n",
    "y_full_train = df_full_train[target].values\n",
    "y_train = df_train[target].values\n",
    "y_test = df_test[target].values\n",
    "y_val = df_val[target].values"
   ]
  },
  {
   "cell_type": "code",
   "execution_count": 8,
   "id": "09e9d485-409b-482d-bb1a-b69aa0fb49c6",
   "metadata": {},
   "outputs": [],
   "source": [
    "from sklearn.tree import DecisionTreeRegressor\n",
    "\n",
    "dt = DecisionTreeRegressor(max_depth=1)"
   ]
  },
  {
   "cell_type": "code",
   "execution_count": 9,
   "id": "2b4de982-613b-4bc7-8184-2856b814bb0f",
   "metadata": {},
   "outputs": [
    {
     "data": {
      "text/html": [
       "<style>#sk-container-id-1 {color: black;}#sk-container-id-1 pre{padding: 0;}#sk-container-id-1 div.sk-toggleable {background-color: white;}#sk-container-id-1 label.sk-toggleable__label {cursor: pointer;display: block;width: 100%;margin-bottom: 0;padding: 0.3em;box-sizing: border-box;text-align: center;}#sk-container-id-1 label.sk-toggleable__label-arrow:before {content: \"▸\";float: left;margin-right: 0.25em;color: #696969;}#sk-container-id-1 label.sk-toggleable__label-arrow:hover:before {color: black;}#sk-container-id-1 div.sk-estimator:hover label.sk-toggleable__label-arrow:before {color: black;}#sk-container-id-1 div.sk-toggleable__content {max-height: 0;max-width: 0;overflow: hidden;text-align: left;background-color: #f0f8ff;}#sk-container-id-1 div.sk-toggleable__content pre {margin: 0.2em;color: black;border-radius: 0.25em;background-color: #f0f8ff;}#sk-container-id-1 input.sk-toggleable__control:checked~div.sk-toggleable__content {max-height: 200px;max-width: 100%;overflow: auto;}#sk-container-id-1 input.sk-toggleable__control:checked~label.sk-toggleable__label-arrow:before {content: \"▾\";}#sk-container-id-1 div.sk-estimator input.sk-toggleable__control:checked~label.sk-toggleable__label {background-color: #d4ebff;}#sk-container-id-1 div.sk-label input.sk-toggleable__control:checked~label.sk-toggleable__label {background-color: #d4ebff;}#sk-container-id-1 input.sk-hidden--visually {border: 0;clip: rect(1px 1px 1px 1px);clip: rect(1px, 1px, 1px, 1px);height: 1px;margin: -1px;overflow: hidden;padding: 0;position: absolute;width: 1px;}#sk-container-id-1 div.sk-estimator {font-family: monospace;background-color: #f0f8ff;border: 1px dotted black;border-radius: 0.25em;box-sizing: border-box;margin-bottom: 0.5em;}#sk-container-id-1 div.sk-estimator:hover {background-color: #d4ebff;}#sk-container-id-1 div.sk-parallel-item::after {content: \"\";width: 100%;border-bottom: 1px solid gray;flex-grow: 1;}#sk-container-id-1 div.sk-label:hover label.sk-toggleable__label {background-color: #d4ebff;}#sk-container-id-1 div.sk-serial::before {content: \"\";position: absolute;border-left: 1px solid gray;box-sizing: border-box;top: 0;bottom: 0;left: 50%;z-index: 0;}#sk-container-id-1 div.sk-serial {display: flex;flex-direction: column;align-items: center;background-color: white;padding-right: 0.2em;padding-left: 0.2em;position: relative;}#sk-container-id-1 div.sk-item {position: relative;z-index: 1;}#sk-container-id-1 div.sk-parallel {display: flex;align-items: stretch;justify-content: center;background-color: white;position: relative;}#sk-container-id-1 div.sk-item::before, #sk-container-id-1 div.sk-parallel-item::before {content: \"\";position: absolute;border-left: 1px solid gray;box-sizing: border-box;top: 0;bottom: 0;left: 50%;z-index: -1;}#sk-container-id-1 div.sk-parallel-item {display: flex;flex-direction: column;z-index: 1;position: relative;background-color: white;}#sk-container-id-1 div.sk-parallel-item:first-child::after {align-self: flex-end;width: 50%;}#sk-container-id-1 div.sk-parallel-item:last-child::after {align-self: flex-start;width: 50%;}#sk-container-id-1 div.sk-parallel-item:only-child::after {width: 0;}#sk-container-id-1 div.sk-dashed-wrapped {border: 1px dashed gray;margin: 0 0.4em 0.5em 0.4em;box-sizing: border-box;padding-bottom: 0.4em;background-color: white;}#sk-container-id-1 div.sk-label label {font-family: monospace;font-weight: bold;display: inline-block;line-height: 1.2em;}#sk-container-id-1 div.sk-label-container {text-align: center;}#sk-container-id-1 div.sk-container {/* jupyter's `normalize.less` sets `[hidden] { display: none; }` but bootstrap.min.css set `[hidden] { display: none !important; }` so we also need the `!important` here to be able to override the default hidden behavior on the sphinx rendered scikit-learn.org. See: https://github.com/scikit-learn/scikit-learn/issues/21755 */display: inline-block !important;position: relative;}#sk-container-id-1 div.sk-text-repr-fallback {display: none;}</style><div id=\"sk-container-id-1\" class=\"sk-top-container\"><div class=\"sk-text-repr-fallback\"><pre>DecisionTreeRegressor(max_depth=1)</pre><b>In a Jupyter environment, please rerun this cell to show the HTML representation or trust the notebook. <br />On GitHub, the HTML representation is unable to render, please try loading this page with nbviewer.org.</b></div><div class=\"sk-container\" hidden><div class=\"sk-item\"><div class=\"sk-estimator sk-toggleable\"><input class=\"sk-toggleable__control sk-hidden--visually\" id=\"sk-estimator-id-1\" type=\"checkbox\" checked><label for=\"sk-estimator-id-1\" class=\"sk-toggleable__label sk-toggleable__label-arrow\">DecisionTreeRegressor</label><div class=\"sk-toggleable__content\"><pre>DecisionTreeRegressor(max_depth=1)</pre></div></div></div></div></div>"
      ],
      "text/plain": [
       "DecisionTreeRegressor(max_depth=1)"
      ]
     },
     "execution_count": 9,
     "metadata": {},
     "output_type": "execute_result"
    }
   ],
   "source": [
    "dt.fit(X_train,y_train)"
   ]
  },
  {
   "cell_type": "code",
   "execution_count": 15,
   "id": "926cdd53-6621-4a41-b21c-0300110d29bc",
   "metadata": {},
   "outputs": [
    {
     "data": {
      "text/plain": [
       "array(['households', 'housing_median_age', 'latitude', 'longitude',\n",
       "       'median_income', 'ocean_proximity=<1H OCEAN',\n",
       "       'ocean_proximity=INLAND', 'population', 'total_bedrooms',\n",
       "       'total_rooms'], dtype=object)"
      ]
     },
     "execution_count": 15,
     "metadata": {},
     "output_type": "execute_result"
    }
   ],
   "source": [
    "dv.get_feature_names_out()"
   ]
  },
  {
   "cell_type": "code",
   "execution_count": 16,
   "id": "b38e017e-0e3b-46e6-8b6d-b74b1004d13e",
   "metadata": {},
   "outputs": [
    {
     "name": "stdout",
     "output_type": "stream",
     "text": [
      "|--- ocean_proximity=INLAND <= 0.50\n",
      "|   |--- value: [12.30]\n",
      "|--- ocean_proximity=INLAND >  0.50\n",
      "|   |--- value: [11.61]\n",
      "\n"
     ]
    }
   ],
   "source": [
    "from sklearn.tree import export_text\n",
    "\n",
    "print(export_text(dt,feature_names=dv.get_feature_names_out()))"
   ]
  },
  {
   "cell_type": "markdown",
   "id": "6491e741-a6b3-4d7a-8f17-e2aca109aac9",
   "metadata": {},
   "source": [
    "# Most important split feature is ocean_proximity"
   ]
  },
  {
   "cell_type": "code",
   "execution_count": 20,
   "id": "ec2322c2-4947-42cb-b926-d68ec72d5c67",
   "metadata": {},
   "outputs": [],
   "source": [
    "from sklearn.ensemble import RandomForestRegressor\n",
    "\n",
    "rf = RandomForestRegressor(n_estimators=10, random_state=1, n_jobs=-1)"
   ]
  },
  {
   "cell_type": "code",
   "execution_count": 25,
   "id": "aed8c892-5097-4374-8aad-d5cb9c087d8c",
   "metadata": {},
   "outputs": [],
   "source": [
    "rf.fit(X_train,y_train)\n",
    "y_pred = rf.predict(X_val)"
   ]
  },
  {
   "cell_type": "code",
   "execution_count": 38,
   "id": "63276f57-c890-47bb-9f75-4abdd8b2eb80",
   "metadata": {},
   "outputs": [
    {
     "data": {
      "text/plain": [
       "0.24539095817174172"
      ]
     },
     "execution_count": 38,
     "metadata": {},
     "output_type": "execute_result"
    }
   ],
   "source": [
    "#RMSE\n",
    "np.sqrt(((y_pred-y_val)**2).mean())"
   ]
  },
  {
   "cell_type": "markdown",
   "id": "2d9c5638-a592-46ff-93e7-cd7dfed0a580",
   "metadata": {},
   "source": [
    "# RMSE for random forest is 0.2454"
   ]
  },
  {
   "cell_type": "code",
   "execution_count": 46,
   "id": "fb76e34f-a33b-42c9-ad79-e88b53507255",
   "metadata": {},
   "outputs": [],
   "source": [
    "def rmse(x,xx):\n",
    "    return np.sqrt(((x-xx)**2).mean())"
   ]
  },
  {
   "cell_type": "code",
   "execution_count": 48,
   "id": "40b64384-9d51-4573-b33b-3b44487aabf4",
   "metadata": {},
   "outputs": [
    {
     "name": "stderr",
     "output_type": "stream",
     "text": [
      "100%|███████████████████████████████████████| 20/20 [00:24<00:00,  1.22s/it]\n"
     ]
    }
   ],
   "source": [
    "from tqdm import tqdm\n",
    "\n",
    "score=[]\n",
    "\n",
    "for n in tqdm(np.arange(10,201,10)):\n",
    "    rf = RandomForestRegressor(n_estimators=n,random_state=1,n_jobs=-1)\n",
    "    rf.fit(X_train,y_train)\n",
    "    score.append((n,rmse(rf.predict(X_val),y_val)))"
   ]
  },
  {
   "cell_type": "code",
   "execution_count": 49,
   "id": "8b778c23-e822-4805-9917-2f91ec7b84e1",
   "metadata": {},
   "outputs": [],
   "source": [
    "df_score = pd.DataFrame(score,columns=['Trees','RMSE'])"
   ]
  },
  {
   "cell_type": "code",
   "execution_count": 53,
   "id": "c4bd7258-d282-40a6-b00e-b6dd78c1622c",
   "metadata": {},
   "outputs": [],
   "source": [
    "import seaborn as sns\n",
    "import matplotlib.pyplot as plt"
   ]
  },
  {
   "cell_type": "code",
   "execution_count": 56,
   "id": "1137588d-946c-4726-a4d2-dfaada24277c",
   "metadata": {},
   "outputs": [
    {
     "data": {
      "text/plain": [
       "[<matplotlib.lines.Line2D at 0x7ff01c1bceb0>]"
      ]
     },
     "execution_count": 56,
     "metadata": {},
     "output_type": "execute_result"
    },
    {
     "data": {
      "image/png": "[encoded data removed]",
      "text/plain": [
       "<Figure size 640x480 with 1 Axes>"
      ]
     },
     "metadata": {},
     "output_type": "display_data"
    }
   ],
   "source": [
    "plt.plot(df_score.Trees,df_score.RMSE)"
   ]
  },
  {
   "cell_type": "markdown",
   "id": "9981b4a6-3ad7-4276-a7d6-493a6f849a24",
   "metadata": {},
   "source": [
    "# RMSE stops improving at Trees = 160"
   ]
  },
  {
   "cell_type": "code",
   "execution_count": 59,
   "id": "99fef561-c0b3-462e-b768-7d995ffa2b9d",
   "metadata": {},
   "outputs": [
    {
     "name": "stderr",
     "output_type": "stream",
     "text": [
      "100%|█████████████████████████████████████████| 4/4 [00:06<00:00,  1.58s/it]\n"
     ]
    },
    {
     "data": {
      "text/plain": [
       "[<matplotlib.lines.Line2D at 0x7ff0060534c0>]"
      ]
     },
     "execution_count": 59,
     "metadata": {},
     "output_type": "execute_result"
    },
    {
     "data": {
      "image/png": "[encoded data removed]",
      "text/plain": [
       "<Figure size 640x480 with 1 Axes>"
      ]
     },
     "metadata": {},
     "output_type": "display_data"
    }
   ],
   "source": [
    "#Best n_estimators\n",
    "n= 160\n",
    "depths = [10, 15, 20, 25]\n",
    "scores=[]\n",
    "for depth in tqdm(depths):\n",
    "    rf = RandomForestRegressor(n_estimators = n, max_depth=depth,random_state=1,n_jobs=-1)\n",
    "    rf.fit(X_train,y_train)\n",
    "    scores.append((depth,rmse(rf.predict(X_val),y_val)))\n",
    "\n",
    "df_scores = pd.DataFrame(scores,columns=['depth','rmse'])\n",
    "plt.plot(df_scores.depth,df_scores.rmse)                         "
   ]
  },
  {
   "cell_type": "markdown",
   "id": "7a84f1ad-6d20-4e2e-823f-eaa2cb7a4ebb",
   "metadata": {},
   "source": [
    "# Best max_depth is 20"
   ]
  },
  {
   "cell_type": "code",
   "execution_count": 70,
   "id": "71f9b8ae-91e8-4000-b002-d2087bed485c",
   "metadata": {},
   "outputs": [],
   "source": [
    "rf = RandomForestRegressor(n_estimators=10,max_depth=20,random_state=1,n_jobs=-1)\n",
    "rf.fit(X_train,y_train)\n",
    "df_feature_importances = pd.DataFrame(rf.feature_importances_.reshape(1,10),columns=dv.get_feature_names_out())\n",
    "df_feature_importances  = df_feature_importances.T"
   ]
  },
  {
   "cell_type": "code",
   "execution_count": 82,
   "id": "73958e10-64ae-414a-988e-4f50912a2c7c",
   "metadata": {},
   "outputs": [
    {
     "data": {
      "text/html": [
       "<div>\n",
       "<style scoped>\n",
       "    .dataframe tbody tr th:only-of-type {\n",
       "        vertical-align: middle;\n",
       "    }\n",
       "\n",
       "    .dataframe tbody tr th {\n",
       "        vertical-align: top;\n",
       "    }\n",
       "\n",
       "    .dataframe thead th {\n",
       "        text-align: right;\n",
       "    }\n",
       "</style>\n",
       "<table border=\"1\" class=\"dataframe\">\n",
       "  <thead>\n",
       "    <tr style=\"text-align: right;\">\n",
       "      <th></th>\n",
       "      <th>importance</th>\n",
       "    </tr>\n",
       "  </thead>\n",
       "  <tbody>\n",
       "    <tr>\n",
       "      <th>median_income</th>\n",
       "      <td>0.335750</td>\n",
       "    </tr>\n",
       "    <tr>\n",
       "      <th>ocean_proximity=INLAND</th>\n",
       "      <td>0.330982</td>\n",
       "    </tr>\n",
       "    <tr>\n",
       "      <th>latitude</th>\n",
       "      <td>0.101515</td>\n",
       "    </tr>\n",
       "    <tr>\n",
       "      <th>longitude</th>\n",
       "      <td>0.087093</td>\n",
       "    </tr>\n",
       "    <tr>\n",
       "      <th>ocean_proximity=&lt;1H OCEAN</th>\n",
       "      <td>0.035297</td>\n",
       "    </tr>\n",
       "    <tr>\n",
       "      <th>housing_median_age</th>\n",
       "      <td>0.030323</td>\n",
       "    </tr>\n",
       "    <tr>\n",
       "      <th>population</th>\n",
       "      <td>0.028345</td>\n",
       "    </tr>\n",
       "    <tr>\n",
       "      <th>total_rooms</th>\n",
       "      <td>0.020984</td>\n",
       "    </tr>\n",
       "    <tr>\n",
       "      <th>total_bedrooms</th>\n",
       "      <td>0.015154</td>\n",
       "    </tr>\n",
       "    <tr>\n",
       "      <th>households</th>\n",
       "      <td>0.014555</td>\n",
       "    </tr>\n",
       "  </tbody>\n",
       "</table>\n",
       "</div>"
      ],
      "text/plain": [
       "                           importance\n",
       "median_income                0.335750\n",
       "ocean_proximity=INLAND       0.330982\n",
       "latitude                     0.101515\n",
       "longitude                    0.087093\n",
       "ocean_proximity=<1H OCEAN    0.035297\n",
       "housing_median_age           0.030323\n",
       "population                   0.028345\n",
       "total_rooms                  0.020984\n",
       "total_bedrooms               0.015154\n",
       "households                   0.014555"
      ]
     },
     "execution_count": 82,
     "metadata": {},
     "output_type": "execute_result"
    }
   ],
   "source": [
    "df_feature_importances.columns=['importance']\n",
    "df_feature_importances.sort_values(by='importance',ascending=False)"
   ]
  },
  {
   "cell_type": "markdown",
   "id": "81ceb403-2296-49a9-9895-41761b1b3d31",
   "metadata": {},
   "source": [
    "# The most important feature is median_income"
   ]
  },
  {
   "cell_type": "code",
   "execution_count": 84,
   "id": "8e925c58-be2c-4fa5-acc1-82bc178f04b7",
   "metadata": {},
   "outputs": [],
   "source": [
    "import xgboost as xgb"
   ]
  },
  {
   "cell_type": "code",
   "execution_count": 95,
   "id": "5f358f37-1f9c-4013-9dae-9e0f47bd7ca0",
   "metadata": {},
   "outputs": [
    {
     "data": {
      "text/plain": [
       "['households',\n",
       " 'housing_median_age',\n",
       " 'latitude',\n",
       " 'longitude',\n",
       " 'median_income',\n",
       " 'ocean_proximity_less_than_1H OCEAN',\n",
       " 'ocean_proximity_is_INLAND',\n",
       " 'population',\n",
       " 'total_bedrooms',\n",
       " 'total_rooms']"
      ]
     },
     "execution_count": 95,
     "metadata": {},
     "output_type": "execute_result"
    }
   ],
   "source": [
    "features = list(dv.get_feature_names_out())\n",
    "features[5]=features[5].replace('=<','_less_than_')\n",
    "features[6]=features[6].replace('=','_is_')\n",
    "features"
   ]
  },
  {
   "cell_type": "code",
   "execution_count": 96,
   "id": "d5efb7c3-0a66-4077-acc3-9e09f9200a2b",
   "metadata": {},
   "outputs": [],
   "source": [
    "dtrain = xgb.DMatrix(X_train,label=y_train, feature_names=features)\n",
    "dval = xgb.DMatrix(X_val,label=y_val,feature_names=features)\n"
   ]
  },
  {
   "cell_type": "code",
   "execution_count": 101,
   "id": "f671f82c-5f8c-4d1a-aa35-4a383940a7dc",
   "metadata": {},
   "outputs": [
    {
     "name": "stdout",
     "output_type": "stream",
     "text": [
      "[0]\ttrain-rmse:8.07362\tvol-rmse:8.07348\n",
      "[10]\ttrain-rmse:0.33195\tvol-rmse:0.34802\n",
      "[20]\ttrain-rmse:0.20036\tvol-rmse:0.24508\n",
      "[30]\ttrain-rmse:0.18204\tvol-rmse:0.23833\n",
      "[40]\ttrain-rmse:0.16422\tvol-rmse:0.23379\n",
      "[50]\ttrain-rmse:0.15210\tvol-rmse:0.23263\n",
      "[60]\ttrain-rmse:0.14218\tvol-rmse:0.23160\n",
      "[70]\ttrain-rmse:0.13431\tvol-rmse:0.23082\n",
      "[80]\ttrain-rmse:0.12686\tvol-rmse:0.23048\n",
      "[90]\ttrain-rmse:0.12026\tvol-rmse:0.22928\n",
      "[99]\ttrain-rmse:0.11571\tvol-rmse:0.22859\n",
      "eta  0.3 RMSE: 0.22859\n",
      "[0]\ttrain-rmse:10.37455\tvol-rmse:10.37544\n",
      "[10]\ttrain-rmse:3.63299\tvol-rmse:3.62935\n",
      "[20]\ttrain-rmse:1.29412\tvol-rmse:1.29323\n",
      "[30]\ttrain-rmse:0.50293\tvol-rmse:0.51232\n",
      "[40]\ttrain-rmse:0.26667\tvol-rmse:0.29287\n",
      "[50]\ttrain-rmse:0.21073\tvol-rmse:0.24891\n",
      "[60]\ttrain-rmse:0.19658\tvol-rmse:0.24074\n",
      "[70]\ttrain-rmse:0.18898\tvol-rmse:0.23797\n",
      "[80]\ttrain-rmse:0.18135\tvol-rmse:0.23456\n",
      "[90]\ttrain-rmse:0.17476\tvol-rmse:0.23252\n",
      "[99]\ttrain-rmse:0.16985\tvol-rmse:0.23123\n",
      "eta  0.1 RMSE: 0.23123\n"
     ]
    }
   ],
   "source": [
    "watchlist = [(dtrain,'train'),(dval,'vol')]\n",
    "etas = [0.3,0.1]\n",
    "for eta in etas:\n",
    "    xgb_params = {\n",
    "        'eta': eta, \n",
    "        'max_depth': 6,\n",
    "        'min_child_weight': 1,\n",
    "        \n",
    "        'objective': 'reg:squarederror',\n",
    "        'nthread': 8,\n",
    "        \n",
    "        'seed': 1,\n",
    "        'verbosity': 1,\n",
    "    }\n",
    "    rounds=100\n",
    "    model = xgb.train(xgb_params, dtrain,num_boost_round=rounds,\n",
    "                      evals=watchlist, verbose_eval=10)\n",
    "    y_pred = model.predict(dval)\n",
    "    print(f\"eta {eta:4} RMSE: {rmse(y_pred,y_val):4.5}\")"
   ]
  },
  {
   "cell_type": "markdown",
   "id": "cbbb7b96-c347-43e3-9e0e-e9c6ba2ff9cc",
   "metadata": {},
   "source": [
    "# Best eta is 0.3"
   ]
  }
 ],
 "metadata": {
  "kernelspec": {
   "display_name": "Python 3 (ipykernel)",
   "language": "python",
   "name": "python3"
  },
  "language_info": {
   "codemirror_mode": {
    "name": "ipython",
    "version": 3
   },
   "file_extension": ".py",
   "mimetype": "text/x-python",
   "name": "python",
   "nbconvert_exporter": "python",
   "pygments_lexer": "ipython3",
   "version": "3.9.18"
  }
 },
 "nbformat": 4,
 "nbformat_minor": 5
}
