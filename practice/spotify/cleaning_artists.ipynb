{
 "cells": [
  {
   "cell_type": "markdown",
   "id": "232c611d-41cc-48ad-8b9c-7bb08e944803",
   "metadata": {},
   "source": [
    "## Cleaning Data Practice\n",
    "First we have to read the data and understand the type of data, whether it is numeric or alphanumeric and carry out cleaning if necessary"
   ]
  },
  {
   "cell_type": "code",
   "execution_count": 1,
   "id": "c2b80bbd-f470-481a-8ea0-ae94719f375d",
   "metadata": {},
   "outputs": [],
   "source": [
    "import numpy as np\n",
    "import pandas as pd"
   ]
  },
  {
   "cell_type": "code",
   "execution_count": 4,
   "id": "8c34a440-96c6-4f1f-8a32-d7610faac680",
   "metadata": {},
   "outputs": [
    {
     "data": {
      "text/html": [
       "<div>\n",
       "<style scoped>\n",
       "    .dataframe tbody tr th:only-of-type {\n",
       "        vertical-align: middle;\n",
       "    }\n",
       "\n",
       "    .dataframe tbody tr th {\n",
       "        vertical-align: top;\n",
       "    }\n",
       "\n",
       "    .dataframe thead th {\n",
       "        text-align: right;\n",
       "    }\n",
       "</style>\n",
       "<table border=\"1\" class=\"dataframe\">\n",
       "  <thead>\n",
       "    <tr style=\"text-align: right;\">\n",
       "      <th></th>\n",
       "      <th>Artist</th>\n",
       "      <th>Streams</th>\n",
       "      <th>Daily</th>\n",
       "      <th>As lead</th>\n",
       "      <th>Solo</th>\n",
       "      <th>As feature</th>\n",
       "    </tr>\n",
       "  </thead>\n",
       "  <tbody>\n",
       "    <tr>\n",
       "      <th>0</th>\n",
       "      <td>Drake</td>\n",
       "      <td>85,041.3</td>\n",
       "      <td>50.775</td>\n",
       "      <td>57,252.6</td>\n",
       "      <td>32,681.6</td>\n",
       "      <td>27,788.7</td>\n",
       "    </tr>\n",
       "    <tr>\n",
       "      <th>1</th>\n",
       "      <td>Bad Bunny</td>\n",
       "      <td>67,533.0</td>\n",
       "      <td>44.820</td>\n",
       "      <td>40,969.6</td>\n",
       "      <td>23,073.0</td>\n",
       "      <td>26,563.4</td>\n",
       "    </tr>\n",
       "    <tr>\n",
       "      <th>2</th>\n",
       "      <td>Taylor Swift</td>\n",
       "      <td>57,859.0</td>\n",
       "      <td>85.793</td>\n",
       "      <td>55,566.7</td>\n",
       "      <td>50,425.7</td>\n",
       "      <td>2,292.4</td>\n",
       "    </tr>\n",
       "    <tr>\n",
       "      <th>3</th>\n",
       "      <td>The Weeknd</td>\n",
       "      <td>53,665.2</td>\n",
       "      <td>44.437</td>\n",
       "      <td>42,673.3</td>\n",
       "      <td>31,164.2</td>\n",
       "      <td>10,991.9</td>\n",
       "    </tr>\n",
       "    <tr>\n",
       "      <th>4</th>\n",
       "      <td>Ed Sheeran</td>\n",
       "      <td>47,907.7</td>\n",
       "      <td>17.506</td>\n",
       "      <td>42,767.9</td>\n",
       "      <td>33,917.0</td>\n",
       "      <td>5,139.8</td>\n",
       "    </tr>\n",
       "  </tbody>\n",
       "</table>\n",
       "</div>"
      ],
      "text/plain": [
       "         Artist   Streams   Daily   As lead      Solo As feature\n",
       "0         Drake  85,041.3  50.775  57,252.6  32,681.6   27,788.7\n",
       "1     Bad Bunny  67,533.0  44.820  40,969.6  23,073.0   26,563.4\n",
       "2  Taylor Swift  57,859.0  85.793  55,566.7  50,425.7    2,292.4\n",
       "3    The Weeknd  53,665.2  44.437  42,673.3  31,164.2   10,991.9\n",
       "4    Ed Sheeran  47,907.7  17.506  42,767.9  33,917.0    5,139.8"
      ]
     },
     "execution_count": 4,
     "metadata": {},
     "output_type": "execute_result"
    }
   ],
   "source": [
    "df = pd.read_csv(\"artists.csv\")\n",
    "df.head()"
   ]
  },
  {
   "cell_type": "markdown",
   "id": "14bc6bf6-0b39-4be9-98f4-8e3697dbea2b",
   "metadata": {},
   "source": [
    "#### Notice the space in the column name \"As lead\" and the caps"
   ]
  },
  {
   "cell_type": "code",
   "execution_count": 7,
   "id": "87905732-38d6-4750-b76f-e2dd6bef18d5",
   "metadata": {},
   "outputs": [],
   "source": [
    "df.columns = df.columns.str.lower().str.replace(' ','_')"
   ]
  },
  {
   "cell_type": "markdown",
   "id": "146c316a-edf0-4a97-8882-95d8e74ddee6",
   "metadata": {},
   "source": [
    "####"
   ]
  }
 ],
 "metadata": {
  "kernelspec": {
   "display_name": "Python 3 (ipykernel)",
   "language": "python",
   "name": "python3"
  },
  "language_info": {
   "codemirror_mode": {
    "name": "ipython",
    "version": 3
   },
   "file_extension": ".py",
   "mimetype": "text/x-python",
   "name": "python",
   "nbconvert_exporter": "python",
   "pygments_lexer": "ipython3",
   "version": "3.9.18"
  }
 },
 "nbformat": 4,
 "nbformat_minor": 5
}
