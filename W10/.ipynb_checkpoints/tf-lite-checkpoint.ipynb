{
 "cells": [
  {
   "cell_type": "markdown",
   "id": "963e3896-223d-4a9a-8869-b30b83f08605",
   "metadata": {},
   "source": [
    "### TensorFlow Lite Usage"
   ]
  },
  {
   "cell_type": "markdown",
   "id": "6b93b5dc-71b4-4c6b-bcc5-5a87994d9bfb",
   "metadata": {},
   "source": [
    "!pip install keras-image-helper\n",
    "!pip install tflite-runtime\n",
    "!pip install tensorflow"
   ]
  },
  {
   "cell_type": "code",
   "execution_count": 1,
   "id": "7b2143a2-3a9e-47a5-8c42-961d53af4c16",
   "metadata": {},
   "outputs": [],
   "source": [
    "from keras_image_helper import create_preprocessor"
   ]
  },
  {
   "cell_type": "code",
   "execution_count": 2,
   "id": "fc2e85a2-02ab-453e-ac2b-4e4254f5ee18",
   "metadata": {},
   "outputs": [],
   "source": [
    "preprocessor = create_preprocessor('xception', target_size=(150, 150))"
   ]
  },
  {
   "cell_type": "code",
   "execution_count": 3,
   "id": "840a3a03-ffce-4c0b-b371-168c7c30c0ea",
   "metadata": {},
   "outputs": [],
   "source": [
    "image_url = 'http://bit.ly/mlbookcamp-pants'\n",
    "x = preprocessor.from_url(image_url)"
   ]
  },
  {
   "cell_type": "code",
   "execution_count": null,
   "id": "e0d0c583-eada-4cdb-b6ed-1421901a307f",
   "metadata": {},
   "outputs": [],
   "source": []
  },
  {
   "cell_type": "code",
   "execution_count": 4,
   "id": "683a2227-13eb-40c3-9dc4-b1c3c57b19d6",
   "metadata": {},
   "outputs": [],
   "source": [
    "# import tensorflow.lite as tflite # this also works locally, but it won't work in Lambda\n",
    "import tflite_runtime.interpreter as tflite"
   ]
  },
  {
   "cell_type": "code",
   "execution_count": 17,
   "id": "ff8802be-7ccc-4b20-850f-e7569afa04c3",
   "metadata": {},
   "outputs": [],
   "source": [
    "from tensorflow import keras\n",
    "import tensorflow as tf"
   ]
  },
  {
   "cell_type": "code",
   "execution_count": 6,
   "id": "dd7897eb-1582-4cb8-9ea5-57dce5b9d012",
   "metadata": {},
   "outputs": [],
   "source": [
    "model = keras.models.load_model('xception_v1_08_0.827.h5')"
   ]
  },
  {
   "cell_type": "code",
   "execution_count": 7,
   "id": "ee37d4c5-d016-46f3-8c69-a17b76bf75cb",
   "metadata": {},
   "outputs": [],
   "source": [
    "from tensorflow.keras.applications.xception import preprocess_input"
   ]
  },
  {
   "cell_type": "code",
   "execution_count": 9,
   "id": "149dc2f8-c126-41cc-a5e2-712fa12a04bf",
   "metadata": {},
   "outputs": [],
   "source": [
    "X = preprocess_input(x)"
   ]
  },
  {
   "cell_type": "code",
   "execution_count": 10,
   "id": "b62e44ac-41de-4e40-aff9-c133bbdaf78c",
   "metadata": {},
   "outputs": [
    {
     "name": "stdout",
     "output_type": "stream",
     "text": [
      "1/1 [==============================] - 1s 1s/step\n"
     ]
    }
   ],
   "source": [
    "preds = model.predict(X)"
   ]
  },
  {
   "cell_type": "code",
   "execution_count": 11,
   "id": "ae97c82c-6182-495a-a5d5-b2de89b523b2",
   "metadata": {},
   "outputs": [
    {
     "data": {
      "text/plain": [
       "array([[-0.08997077, -0.00213569,  0.01531705,  0.00530038, -0.01318989,\n",
       "        -0.04418154, -0.08407571, -0.01786639, -0.06646232, -0.00689829]],\n",
       "      dtype=float32)"
      ]
     },
     "execution_count": 11,
     "metadata": {},
     "output_type": "execute_result"
    }
   ],
   "source": [
    "preds"
   ]
  },
  {
   "cell_type": "code",
   "execution_count": 12,
   "id": "93dd1fac-871d-41d0-9be3-0cdf70e13261",
   "metadata": {},
   "outputs": [],
   "source": [
    "classes = [\n",
    "    'dress',\n",
    "    'hat',\n",
    "    'longsleeve',\n",
    "    'outwear',\n",
    "    'pants',\n",
    "    'shirt',\n",
    "    'shoes',\n",
    "    'skirt',\n",
    "     't-shirt'\n",
    "]\n"
   ]
  },
  {
   "cell_type": "code",
   "execution_count": 15,
   "id": "25a088c4-0cd5-4b02-a218-703cfd63fd06",
   "metadata": {},
   "outputs": [
    {
     "data": {
      "text/plain": [
       "{'dress': -0.08997077,\n",
       " 'hat': -0.002135694,\n",
       " 'longsleeve': 0.015317051,\n",
       " 'outwear': 0.0053003766,\n",
       " 'pants': -0.013189889,\n",
       " 'shirt': -0.04418154,\n",
       " 'shoes': -0.08407571,\n",
       " 'skirt': -0.017866386,\n",
       " 't-shirt': -0.06646232}"
      ]
     },
     "execution_count": 15,
     "metadata": {},
     "output_type": "execute_result"
    }
   ],
   "source": [
    "dict(zip(classes, preds[0]))"
   ]
  },
  {
   "cell_type": "markdown",
   "id": "deb29c92-986a-486f-b98a-22091892128d",
   "metadata": {},
   "source": [
    "### Convert Keras to TF-Lite"
   ]
  },
  {
   "cell_type": "code",
   "execution_count": 20,
   "id": "3587a1eb-30c8-40f4-a280-b53edc8976e9",
   "metadata": {},
   "outputs": [
    {
     "name": "stdout",
     "output_type": "stream",
     "text": [
      "INFO:tensorflow:Assets written to: /tmp/tmps3ucdgz1/assets\n"
     ]
    },
    {
     "name": "stderr",
     "output_type": "stream",
     "text": [
      "INFO:tensorflow:Assets written to: /tmp/tmps3ucdgz1/assets\n",
      "2023-11-27 16:50:41.495994: W tensorflow/compiler/mlir/lite/python/tf_tfl_flatbuffer_helpers.cc:378] Ignored output_format.\n",
      "2023-11-27 16:50:41.496042: W tensorflow/compiler/mlir/lite/python/tf_tfl_flatbuffer_helpers.cc:381] Ignored drop_control_dependency.\n",
      "2023-11-27 16:50:41.497414: I tensorflow/cc/saved_model/reader.cc:83] Reading SavedModel from: /tmp/tmps3ucdgz1\n",
      "2023-11-27 16:50:41.523889: I tensorflow/cc/saved_model/reader.cc:51] Reading meta graph with tags { serve }\n",
      "2023-11-27 16:50:41.523946: I tensorflow/cc/saved_model/reader.cc:146] Reading SavedModel debug info (if present) from: /tmp/tmps3ucdgz1\n",
      "2023-11-27 16:50:41.570541: I tensorflow/compiler/mlir/mlir_graph_optimization_pass.cc:388] MLIR V1 optimization pass is not enabled\n",
      "2023-11-27 16:50:41.601064: I tensorflow/cc/saved_model/loader.cc:233] Restoring SavedModel bundle.\n",
      "2023-11-27 16:50:42.333320: I tensorflow/cc/saved_model/loader.cc:217] Running initialization op on SavedModel bundle at path: /tmp/tmps3ucdgz1\n",
      "2023-11-27 16:50:42.584751: I tensorflow/cc/saved_model/loader.cc:316] SavedModel load for tags { serve }; Status: success: OK. Took 1087340 microseconds.\n",
      "2023-11-27 16:50:42.832499: I tensorflow/compiler/mlir/tensorflow/utils/dump_mlir_util.cc:269] disabling MLIR crash reproducer, set env var `MLIR_CRASH_REPRODUCER_DIRECTORY` to enable.\n",
      "Summary on the non-converted ops:\n",
      "---------------------------------\n",
      " * Accepted dialects: tfl, builtin, func\n",
      " * Non-Converted Ops: 123, Total Ops 229, % non-converted = 53.71 %\n",
      " * 123 ARITH ops\n",
      "\n",
      "- arith.constant:  123 occurrences  (f32: 122, i32: 1)\n",
      "\n",
      "\n",
      "\n",
      "  (f32: 12)\n",
      "  (f32: 40)\n",
      "  (f32: 34)\n",
      "  (f32: 1)\n",
      "  (f32: 4)\n",
      "  (f32: 1)\n",
      "  (f32: 11)\n"
     ]
    }
   ],
   "source": [
    "converter = tf.lite.TFLiteConverter.from_keras_model(model)\n",
    "\n",
    "tflite_model = converter.convert()\n",
    "\n",
    "with open('clothing-model.tflite', 'wb') as f_out:\n",
    "    f_out.write(tflite_model)"
   ]
  },
  {
   "cell_type": "code",
   "execution_count": 21,
   "id": "ca0e5c64-4291-492f-82ec-a16582b4b3bb",
   "metadata": {},
   "outputs": [
    {
     "name": "stdout",
     "output_type": "stream",
     "text": [
      "total 160M\n",
      "-rw-rw-r-- 1 paul paul  80M Nov 27 16:50 clothing-model.tflite\n",
      "-rw-rw-r-- 1 paul paul 8,0K Nov 27 16:51 tf-lite.ipynb\n",
      "-rw-rw-r-- 1 paul paul  81M Nov 27 13:32 xception_v1_08_0.827.h5\n"
     ]
    }
   ],
   "source": [
    "!ls -lh"
   ]
  },
  {
   "cell_type": "code",
   "execution_count": 35,
   "id": "447e2a7a-346e-446e-a181-a658e3b61618",
   "metadata": {},
   "outputs": [],
   "source": [
    "import numpy as np\n",
    "import tensorflow.lite as tflite\n",
    "from keras_image_helper import create_preprocessor"
   ]
  },
  {
   "cell_type": "code",
   "execution_count": 24,
   "id": "1f86a9fe-1b4b-4dbc-ae90-6711277b28fa",
   "metadata": {},
   "outputs": [
    {
     "name": "stderr",
     "output_type": "stream",
     "text": [
      "INFO: Created TensorFlow Lite XNNPACK delegate for CPU.\n"
     ]
    }
   ],
   "source": [
    "interpreter = tflite.Interpreter(model_path='clothing-model.tflite')\n",
    "interpreter.allocate_tensors()\n",
    "\n",
    "input_index = interpreter.get_input_details()[0]['index']\n",
    "output_index = interpreter.get_output_details()[0]['index']"
   ]
  },
  {
   "cell_type": "code",
   "execution_count": 31,
   "id": "338d0a02-86b5-4da0-bd3f-ee56c1f59286",
   "metadata": {},
   "outputs": [],
   "source": [
    "interpreter.set_tensor(input_index, X)\n",
    "interpreter.invoke()\n",
    "preds = interpreter.get_tensor(output_index)\n",
    "\n",
    "classes = [\n",
    "    'dress',\n",
    "    'hat',\n",
    "    'longsleeve',\n",
    "    'outwear',\n",
    "    'pants',\n",
    "    'shirt',\n",
    "    'shoes',\n",
    "    'skirt',\n",
    "     't-shirt'\n",
    "]\n",
    "\n",
    "dict(zip(classes, preds[0]))"
   ]
  },
  {
   "cell_type": "markdown",
   "id": "ab524efa-4c57-4aaa-b837-dd8841f93ba9",
   "metadata": {},
   "source": [
    "## Removing TF dependancy"
   ]
  },
  {
   "cell_type": "code",
   "execution_count": 39,
   "id": "322b9214-7a81-4f0f-92ce-b88745ca2d93",
   "metadata": {},
   "outputs": [],
   "source": [
    "from PIL import Image\n",
    "\n",
    "with Image.open('pants.jpg') as img:\n",
    "        img = img.resize((150,150),Image.NEAREST)"
   ]
  },
  {
   "cell_type": "code",
   "execution_count": 41,
   "id": "26286b4f-1383-49f2-a3d8-03330880006e",
   "metadata": {},
   "outputs": [],
   "source": [
    "def preprocess_input(x):\n",
    "    x /= 127.5\n",
    "    x -= 1.\n",
    "    return x"
   ]
  },
  {
   "cell_type": "code",
   "execution_count": 42,
   "id": "bde040af-9592-4700-8314-a519fc18ddbf",
   "metadata": {},
   "outputs": [],
   "source": [
    "x = np.array(img, dtype='float32')\n",
    "X = np.array([x])\n",
    "\n",
    "X = preprocess_input(X)"
   ]
  },
  {
   "cell_type": "markdown",
   "id": "7931c022-419a-4161-991a-3b13f116839a",
   "metadata": {},
   "source": [
    "## Simpler way"
   ]
  },
  {
   "cell_type": "markdown",
   "id": "478f77fd-ff14-4fca-bf7b-189cf92d97d7",
   "metadata": {},
   "source": [
    "!pip install keras-image-helper \\\n",
    "!pip install tflite-runtime \\\n",
    "!pip install tensorflow "
   ]
  },
  {
   "cell_type": "code",
   "execution_count": 49,
   "id": "874c8008-6f11-4844-ad4a-b575a0683b76",
   "metadata": {},
   "outputs": [
    {
     "name": "stdout",
     "output_type": "stream",
     "text": [
      "Requirement already satisfied: tflite-runtime in /home/paul/anaconda3/lib/python3.11/site-packages (2.14.0)\n",
      "Requirement already satisfied: numpy>=1.23.2 in /home/paul/anaconda3/lib/python3.11/site-packages (from tflite-runtime) (1.24.3)\n"
     ]
    }
   ],
   "source": [
    "!python3 -m pip install tflite-runtime"
   ]
  },
  {
   "cell_type": "code",
   "execution_count": 3,
   "id": "179ee4aa-9c69-44a8-abda-872dc25a9816",
   "metadata": {},
   "outputs": [],
   "source": [
    "import numpy as np\n",
    "import tflite_runtime.interpreter as tflite\n",
    "from keras_image_helper import create_preprocessor"
   ]
  },
  {
   "cell_type": "code",
   "execution_count": 4,
   "id": "ade12574-2eeb-405a-8c73-b54ed3e042d6",
   "metadata": {},
   "outputs": [
    {
     "name": "stderr",
     "output_type": "stream",
     "text": [
      "INFO: Created TensorFlow Lite XNNPACK delegate for CPU.\n"
     ]
    }
   ],
   "source": [
    "interpreter = tflite.Interpreter(model_path='clothing-model.tflite')\n",
    "interpreter.allocate_tensors()\n",
    "\n",
    "input_index = interpreter.get_input_details()[0]['index']\n",
    "output_index = interpreter.get_output_details()[0]['index']"
   ]
  },
  {
   "cell_type": "code",
   "execution_count": 6,
   "id": "f1d6fd8a-fc67-47b6-bed5-19da8c6d2fb5",
   "metadata": {},
   "outputs": [
    {
     "data": {
      "text/plain": [
       "{'dress': -4.8456326,\n",
       " 'hat': -6.543998,\n",
       " 'longsleeve': -0.7847298,\n",
       " 'outwear': -2.1457913,\n",
       " 'pants': 2.893037,\n",
       " 'shirt': -2.0608056,\n",
       " 'shoes': -10.1890335,\n",
       " 'skirt': -1.5003082,\n",
       " 't-shirt': -3.1427987}"
      ]
     },
     "execution_count": 6,
     "metadata": {},
     "output_type": "execute_result"
    }
   ],
   "source": [
    "preprocessor = create_preprocessor('xception',target_size=(150,150))\n",
    "\n",
    "image_url = 'http://bit.ly/mlbookcamp-pants'\n",
    "X = preprocessor.from_url(image_url)\n",
    "\n",
    "interpreter.set_tensor(input_index, X)\n",
    "interpreter.invoke()\n",
    "preds = interpreter.get_tensor(output_index)\n",
    "\n",
    "classes = [\n",
    "    'dress',\n",
    "    'hat',\n",
    "    'longsleeve',\n",
    "    'outwear',\n",
    "    'pants',\n",
    "    'shirt',\n",
    "    'shoes',\n",
    "    'skirt',\n",
    "     't-shirt'\n",
    "]\n",
    "\n",
    "dict(zip(classes, preds[0]))"
   ]
  },
  {
   "cell_type": "code",
   "execution_count": null,
   "id": "28b69eb1-58c4-4849-9a23-6d91822911e0",
   "metadata": {},
   "outputs": [],
   "source": []
  }
 ],
 "metadata": {
  "kernelspec": {
   "display_name": "Python 3 (ipykernel)",
   "language": "python",
   "name": "python3"
  },
  "language_info": {
   "codemirror_mode": {
    "name": "ipython",
    "version": 3
   },
   "file_extension": ".py",
   "mimetype": "text/x-python",
   "name": "python",
   "nbconvert_exporter": "python",
   "pygments_lexer": "ipython3",
   "version": "3.11.5"
  }
 },
 "nbformat": 4,
 "nbformat_minor": 5
}
